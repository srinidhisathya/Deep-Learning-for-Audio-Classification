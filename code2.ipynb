{
 "cells": [
  {
   "cell_type": "markdown",
   "id": "551dc2ed-2ed3-4d44-8fee-40f8f2649b1c",
   "metadata": {},
   "source": [
    "# COMP6252 - Deep Learning Technologies Coursework 2"
   ]
  },
  {
   "cell_type": "markdown",
   "id": "081617b7-f659-4e1a-9b0f-2cbe74a2cb45",
   "metadata": {},
   "source": [
    "## Install packages\n",
    "\n",
    "* torch : An open-source machine learning library for Python. Offers an adaptable framework for neural network building and training.\n",
    "\n",
    "* torchvision : Provides  tools and utilities for working with computer vision tasks.\n",
    "\n",
    "*  librosa : A Python library used for audio and music analysis."
   ]
  },
  {
   "cell_type": "code",
   "execution_count": 1,
   "id": "769e3d1e-d6fa-4890-b190-69956673cdb4",
   "metadata": {},
   "outputs": [
    {
     "name": "stdout",
     "output_type": "stream",
     "text": [
      "Requirement already satisfied: torch in c:\\users\\dell\\miniconda3\\envs\\myenv\\lib\\site-packages (2.2.1)\n",
      "Requirement already satisfied: filelock in c:\\users\\dell\\miniconda3\\envs\\myenv\\lib\\site-packages (from torch) (3.13.1)\n",
      "Requirement already satisfied: typing-extensions>=4.8.0 in c:\\users\\dell\\miniconda3\\envs\\myenv\\lib\\site-packages (from torch) (4.9.0)\n",
      "Requirement already satisfied: sympy in c:\\users\\dell\\miniconda3\\envs\\myenv\\lib\\site-packages (from torch) (1.12)\n",
      "Requirement already satisfied: networkx in c:\\users\\dell\\miniconda3\\envs\\myenv\\lib\\site-packages (from torch) (3.2.1)\n",
      "Requirement already satisfied: jinja2 in c:\\users\\dell\\miniconda3\\envs\\myenv\\lib\\site-packages (from torch) (3.1.2)\n",
      "Requirement already satisfied: fsspec in c:\\users\\dell\\miniconda3\\envs\\myenv\\lib\\site-packages (from torch) (2024.2.0)\n",
      "Requirement already satisfied: MarkupSafe>=2.0 in c:\\users\\dell\\miniconda3\\envs\\myenv\\lib\\site-packages (from jinja2->torch) (2.1.3)\n",
      "Requirement already satisfied: mpmath>=0.19 in c:\\users\\dell\\miniconda3\\envs\\myenv\\lib\\site-packages (from sympy->torch) (1.3.0)\n",
      "Requirement already satisfied: torchvision in c:\\users\\dell\\miniconda3\\envs\\myenv\\lib\\site-packages (0.17.1)\n",
      "Requirement already satisfied: numpy in c:\\users\\dell\\miniconda3\\envs\\myenv\\lib\\site-packages (from torchvision) (1.26.3)\n",
      "Requirement already satisfied: torch==2.2.1 in c:\\users\\dell\\miniconda3\\envs\\myenv\\lib\\site-packages (from torchvision) (2.2.1)\n",
      "Requirement already satisfied: pillow!=8.3.*,>=5.3.0 in c:\\users\\dell\\miniconda3\\envs\\myenv\\lib\\site-packages (from torchvision) (10.2.0)\n",
      "Requirement already satisfied: filelock in c:\\users\\dell\\miniconda3\\envs\\myenv\\lib\\site-packages (from torch==2.2.1->torchvision) (3.13.1)\n",
      "Requirement already satisfied: typing-extensions>=4.8.0 in c:\\users\\dell\\miniconda3\\envs\\myenv\\lib\\site-packages (from torch==2.2.1->torchvision) (4.9.0)\n",
      "Requirement already satisfied: sympy in c:\\users\\dell\\miniconda3\\envs\\myenv\\lib\\site-packages (from torch==2.2.1->torchvision) (1.12)\n",
      "Requirement already satisfied: networkx in c:\\users\\dell\\miniconda3\\envs\\myenv\\lib\\site-packages (from torch==2.2.1->torchvision) (3.2.1)\n",
      "Requirement already satisfied: jinja2 in c:\\users\\dell\\miniconda3\\envs\\myenv\\lib\\site-packages (from torch==2.2.1->torchvision) (3.1.2)\n",
      "Requirement already satisfied: fsspec in c:\\users\\dell\\miniconda3\\envs\\myenv\\lib\\site-packages (from torch==2.2.1->torchvision) (2024.2.0)\n",
      "Requirement already satisfied: MarkupSafe>=2.0 in c:\\users\\dell\\miniconda3\\envs\\myenv\\lib\\site-packages (from jinja2->torch==2.2.1->torchvision) (2.1.3)\n",
      "Requirement already satisfied: mpmath>=0.19 in c:\\users\\dell\\miniconda3\\envs\\myenv\\lib\\site-packages (from sympy->torch==2.2.1->torchvision) (1.3.0)\n",
      "Requirement already satisfied: librosa in c:\\users\\dell\\miniconda3\\envs\\myenv\\lib\\site-packages (0.10.1)\n",
      "Requirement already satisfied: audioread>=2.1.9 in c:\\users\\dell\\miniconda3\\envs\\myenv\\lib\\site-packages (from librosa) (3.0.1)\n",
      "Requirement already satisfied: numpy!=1.22.0,!=1.22.1,!=1.22.2,>=1.20.3 in c:\\users\\dell\\miniconda3\\envs\\myenv\\lib\\site-packages (from librosa) (1.26.3)\n",
      "Requirement already satisfied: scipy>=1.2.0 in c:\\users\\dell\\miniconda3\\envs\\myenv\\lib\\site-packages (from librosa) (1.11.4)\n",
      "Requirement already satisfied: scikit-learn>=0.20.0 in c:\\users\\dell\\miniconda3\\envs\\myenv\\lib\\site-packages (from librosa) (1.3.2)\n",
      "Requirement already satisfied: joblib>=0.14 in c:\\users\\dell\\miniconda3\\envs\\myenv\\lib\\site-packages (from librosa) (1.3.2)\n",
      "Requirement already satisfied: decorator>=4.3.0 in c:\\users\\dell\\miniconda3\\envs\\myenv\\lib\\site-packages (from librosa) (5.1.1)\n",
      "Requirement already satisfied: numba>=0.51.0 in c:\\users\\dell\\miniconda3\\envs\\myenv\\lib\\site-packages (from librosa) (0.59.1)\n",
      "Requirement already satisfied: soundfile>=0.12.1 in c:\\users\\dell\\miniconda3\\envs\\myenv\\lib\\site-packages (from librosa) (0.12.1)\n",
      "Requirement already satisfied: pooch>=1.0 in c:\\users\\dell\\miniconda3\\envs\\myenv\\lib\\site-packages (from librosa) (1.8.1)\n",
      "Requirement already satisfied: soxr>=0.3.2 in c:\\users\\dell\\miniconda3\\envs\\myenv\\lib\\site-packages (from librosa) (0.3.7)\n",
      "Requirement already satisfied: typing-extensions>=4.1.1 in c:\\users\\dell\\miniconda3\\envs\\myenv\\lib\\site-packages (from librosa) (4.9.0)\n",
      "Requirement already satisfied: lazy-loader>=0.1 in c:\\users\\dell\\miniconda3\\envs\\myenv\\lib\\site-packages (from librosa) (0.4)\n",
      "Requirement already satisfied: msgpack>=1.0 in c:\\users\\dell\\miniconda3\\envs\\myenv\\lib\\site-packages (from librosa) (1.0.8)\n",
      "Requirement already satisfied: packaging in c:\\users\\dell\\miniconda3\\envs\\myenv\\lib\\site-packages (from lazy-loader>=0.1->librosa) (23.2)\n",
      "Requirement already satisfied: llvmlite<0.43,>=0.42.0dev0 in c:\\users\\dell\\miniconda3\\envs\\myenv\\lib\\site-packages (from numba>=0.51.0->librosa) (0.42.0)\n",
      "Requirement already satisfied: platformdirs>=2.5.0 in c:\\users\\dell\\miniconda3\\envs\\myenv\\lib\\site-packages (from pooch>=1.0->librosa) (4.1.0)\n",
      "Requirement already satisfied: requests>=2.19.0 in c:\\users\\dell\\miniconda3\\envs\\myenv\\lib\\site-packages (from pooch>=1.0->librosa) (2.31.0)\n",
      "Requirement already satisfied: threadpoolctl>=2.0.0 in c:\\users\\dell\\miniconda3\\envs\\myenv\\lib\\site-packages (from scikit-learn>=0.20.0->librosa) (3.2.0)\n",
      "Requirement already satisfied: cffi>=1.0 in c:\\users\\dell\\miniconda3\\envs\\myenv\\lib\\site-packages (from soundfile>=0.12.1->librosa) (1.16.0)\n",
      "Requirement already satisfied: pycparser in c:\\users\\dell\\miniconda3\\envs\\myenv\\lib\\site-packages (from cffi>=1.0->soundfile>=0.12.1->librosa) (2.21)\n",
      "Requirement already satisfied: charset-normalizer<4,>=2 in c:\\users\\dell\\miniconda3\\envs\\myenv\\lib\\site-packages (from requests>=2.19.0->pooch>=1.0->librosa) (3.3.2)\n",
      "Requirement already satisfied: idna<4,>=2.5 in c:\\users\\dell\\miniconda3\\envs\\myenv\\lib\\site-packages (from requests>=2.19.0->pooch>=1.0->librosa) (3.6)\n",
      "Requirement already satisfied: urllib3<3,>=1.21.1 in c:\\users\\dell\\miniconda3\\envs\\myenv\\lib\\site-packages (from requests>=2.19.0->pooch>=1.0->librosa) (2.1.0)\n",
      "Requirement already satisfied: certifi>=2017.4.17 in c:\\users\\dell\\miniconda3\\envs\\myenv\\lib\\site-packages (from requests>=2.19.0->pooch>=1.0->librosa) (2023.11.17)\n"
     ]
    }
   ],
   "source": [
    "!pip install torch\n",
    "!pip install torchvision\n",
    "!pip install librosa"
   ]
  },
  {
   "cell_type": "markdown",
   "id": "e61947dc-86cc-4a96-97e4-3dae93d12137",
   "metadata": {},
   "source": [
    "## Import necessary Packages\n",
    "\n",
    "We'll now import the packages needed to execute the project properly.\r\n",
    "These Python packages/modules are often used for multiple purposes in deep learning, data processing, visualization, and evaluation:"
   ]
  },
  {
   "cell_type": "markdown",
   "id": "94645795-d0d7-40a4-ae47-a2115bc62fec",
   "metadata": {},
   "source": [
    "* os: Provides access to functions specific to your operating system.\r\n",
    "  \r\n",
    "* torch nn: This module, when used with PyTorch, makes it easier to build neural network topologies.\r\n",
    "\r\n",
    "* torch.nn.functional: Provides a set of functions helpful for neural network operations that may be applied on tensors.\r\n",
    "  \r\n",
    "* torch.optim: The optimization algorithms in this module are used to optimize neural network parameters during training.\r\n",
    "  \r\n",
    "* Torchvision: Contains model architectures, image transformations, and commonly used datasets for computer vision applications.\r\n",
    "  \r\n",
    "* PIL (Python Imaging Library) allows for opening, editing, and saving many picture file formats."
   ]
  },
  {
   "cell_type": "markdown",
   "id": "9f979cc4-14fc-42cb-a8c9-41f034c55d9d",
   "metadata": {},
   "source": [
    "* transforms: Provides common image transformations such as scaling, cropping, and normalizing for preprocessing purposes.\r\n",
    "\r\n",
    "* datasets: Provides the ability to download and load popular datasets.\r\n",
    "\r\n",
    "* ImageFolder: Enables the development of a dataset made up of photographs arranged into folders, each representing a class.\r\n",
    "\r\n",
    "* DataLoader: Creates iterable data loaders for training and evaluation, allowing for batch data lod on them."
   ]
  },
  {
   "cell_type": "markdown",
   "id": "143f6675-a0f9-445f-acc0-49ff7edec9e3",
   "metadata": {},
   "source": [
    "* Pandas : a robust Python data processing package. Provides functions and data structures for handling time series data and numerical tables.\n",
    "  \n",
    "* NumPy : a key Python package for scientific computing. Large, multidimensional arrays and matrices are supported, and a variety of mathematical operations may be performed on them."
   ]
  },
  {
   "cell_type": "markdown",
   "id": "70fc624c-7fbb-425b-a2ed-e1e5b3055d72",
   "metadata": {},
   "source": [
    "* zipfile: Supports writing, reading, listing, appending, and creating ZIP files.\n",
    "  \n",
    "* Seaborn : a Matplotlib-based library for data visualization. Provides a powerful sketching tool for producing appealing and statistical visualizations.\n",
    "  \n",
    "* matplotlib.pyplot: Provides an interface for creating plots and visualizations comparable to MATLAB.data in batches."
   ]
  },
  {
   "cell_type": "code",
   "execution_count": 2,
   "id": "8164bdff-5cd3-4450-9f89-eafb33379d3d",
   "metadata": {},
   "outputs": [],
   "source": [
    "import os\n",
    "import torch\n",
    "import torch.nn as nn\n",
    "import torch.nn.functional as F\n",
    "import torchvision\n",
    "from PIL import Image\n",
    "import torch.optim as optim \n",
    "from torchvision import transforms, datasets\n",
    "from torchvision.datasets import ImageFolder\n",
    "from torch.utils.data import DataLoader, Dataset, random_split\n",
    "from torch.optim import SGD, Adam\n",
    "import pandas as pd\n",
    "import numpy as np\n",
    "import librosa\n",
    "from sklearn.metrics import confusion_matrix, classification_report\n",
    "import seaborn as sns\n",
    "import matplotlib.pyplot as plt\n",
    "from sklearn.metrics import precision_score, recall_score, f1_score, precision_recall_curve, auc"
   ]
  },
  {
   "cell_type": "markdown",
   "id": "9aa06122-7e3f-43b2-8353-1fdf3b43c924",
   "metadata": {},
   "source": [
    "## Importing the Dataset \n",
    "\n",
    "We can upload the dataset from our files by identifying the appropriate part, or we can utilize Kaggle to do it."
   ]
  },
  {
   "cell_type": "markdown",
   "id": "da8ef7dc-17b5-49f3-b3f3-82f3cc89aa31",
   "metadata": {},
   "source": [
    "#### Class LoadDataset:\n",
    "\n",
    "This is used to import audio files from a directory and label them based on the subfolder names. It loads each audio file, performs optional changes, and provides audio data with a label."
   ]
  },
  {
   "cell_type": "code",
   "execution_count": 3,
   "id": "5377a036-6dad-4243-87f2-819c697fea4f",
   "metadata": {},
   "outputs": [],
   "source": [
    "# Create a class named LoadDataset that inherits from the Dataset class.\n",
    "class LoadDataset(Dataset):\n",
    "    # Initialize the class with a data directory and optional transformations.\n",
    "    def __init__(self, data_dir, transform=None):\n",
    "        \n",
    "        # Store the data directory.\n",
    "        self.data_dir = data_dir\n",
    "        # Store the transformation.\n",
    "        self.transform = transform   \n",
    "        # Retrieve a list of subdirectories (classes) within the data directory.\n",
    "        self.classes = os.listdir(data_dir)        \n",
    "        # Create an empty list for storing samples.\n",
    "        self.samples = []\n",
    "        \n",
    "        # Iterate over each class using an index.\n",
    "        for i, genre in enumerate(self.classes):\n",
    "            # Obtain the directory path for the current class.\n",
    "            genre_dir = os.path.join(data_dir, genre)\n",
    "            \n",
    "            # Iterate over every file in the class directory.            \n",
    "            for file in os.listdir(genre_dir):\n",
    "                # Add a tuple containing the file location and label index to the samples list.\n",
    "                self.samples.append((os.path.join(genre_dir, file), i))\n",
    "\n",
    "    \n",
    "    # Define a method that returns the dataset's length.\n",
    "    def __len__(self):\n",
    "        # Return the number of samples in the dataset.\n",
    "        return len(self.samples)\n",
    "\n",
    "    \n",
    "    # Define a method for retrieving a sample using an index.\n",
    "    def __getitem__(self, idx):\n",
    "        # Retrieve the file location and label of the sample at the specified index.\n",
    "        file_path, label = self.samples[idx]        \n",
    "        # Load audio file using librosa.\n",
    "        audio, _ = librosa.load(file_path, sr=None)\n",
    "        \n",
    "        # Apply transformations if any.\n",
    "        if self.transform:            \n",
    "            # Perform the transformations on the audio.\n",
    "            audio = self.transform(audio)\n",
    "\n",
    "        # Return the audio data with its associated label.\n",
    "        return audio, label"
   ]
  },
  {
   "cell_type": "markdown",
   "id": "2c3febb0-b731-4d8a-a488-094b017cc71b",
   "metadata": {},
   "source": [
    "#### Class TransformDataset:\n",
    "\n",
    "This transformation class resamples audio at a defined rate, normalizes it within the range [-1, 1], and sets its length to a maximum value."
   ]
  },
  {
   "cell_type": "code",
   "execution_count": 4,
   "id": "fba233d8-2f6b-4e19-b6f7-d998b18964a8",
   "metadata": {},
   "outputs": [],
   "source": [
    "# Create a class for audio data transformation.\n",
    "class TransformDataset:\n",
    "    # Initialize the transformation parameters.\n",
    "    def __init__(self, sample_rate=22050, max_length=220500):\n",
    "        # Store the sample rate.\n",
    "        self.sample_rate = sample_rate\n",
    "        # Save the maximum length of audio.\n",
    "        self.max_length = max_length\n",
    "\n",
    "    \n",
    "    # Define the transformation technique.\n",
    "    def __call__(self, audio):        \n",
    "        # Resample audio to the specified sample rate using librosa.\n",
    "        audio = librosa.resample(audio, orig_sr=self.sample_rate, target_sr=self.sample_rate)\n",
    "        # Normalize audio to the range [-1, 1] by dividing by the highest absolute value.\n",
    "        audio /= np.max(np.abs(audio))\n",
    "        \n",
    "        # Ensure all audio samples have the same length.\n",
    "        # Determine if the audio length is less than the maximum length.\n",
    "        if len(audio) < self.max_length:            \n",
    "            # Pad the audio sequence with zeros if it's shorter than max_length.\n",
    "            audio = np.pad(audio, (0, self.max_length - len(audio)))\n",
    "            \n",
    "        else:\n",
    "            # If audio sequence is greater than max_length, truncate it.\n",
    "            audio = audio[:self.max_length]\n",
    "\n",
    "        # Return the converted audio.\n",
    "        return audio"
   ]
  },
  {
   "cell_type": "code",
   "execution_count": 5,
   "id": "2195ac1e-812b-43d7-ac05-dc47e3e6607f",
   "metadata": {},
   "outputs": [],
   "source": [
    "# Create transforms for audio data.\n",
    "audio_transform = TransformDataset()"
   ]
  },
  {
   "cell_type": "code",
   "execution_count": 6,
   "id": "f2378704-178d-4c67-8873-25e3e23e5959",
   "metadata": {},
   "outputs": [],
   "source": [
    "# Load audio data.\n",
    "data_dir = 'C:/Users/DELL/Downloads/DLTCW/music-genre-dataset/Data/genres_original'\n",
    "dataset = LoadDataset(data_dir, transform=audio_transform)"
   ]
  },
  {
   "cell_type": "code",
   "execution_count": 7,
   "id": "a577041a-1997-496f-bd3d-8f2a67b300a6",
   "metadata": {},
   "outputs": [],
   "source": [
    "# !pip install kaggle\n",
    "# from google.colab import files\n",
    "# files.upload()  # Select the kaggle.json file from your local machine"
   ]
  },
  {
   "cell_type": "code",
   "execution_count": 8,
   "id": "52e8b252-79c9-43aa-99dc-9d3cefb7662e",
   "metadata": {},
   "outputs": [],
   "source": [
    "# Move the API key to the required location\n",
    "# !mkdir -p ~/.kaggle\n",
    "# !cp kaggle.json ~/.kaggle/\n",
    "# !chmod 600 ~/.kaggle/kaggle.json\n",
    "\n",
    "# Download the dataset\n",
    "# !kaggle datasets download -d andradaolteanu/gtzan-dataset-music-genre-classification\n",
    "\n",
    "# Unzip the dataset\n",
    "# with zipfile.ZipFile('gtzan-dataset-music-genre-classification.zip', 'r') as zip_ref:\n",
    " #    zip_ref.extractall('gtzan_dataset')\n",
    "\n",
    "# List the contents of the extracted folder\n",
    "# !ls gtzan_dataset"
   ]
  },
  {
   "cell_type": "code",
   "execution_count": 9,
   "id": "27a76751-b8b0-409c-a7ca-c0b911deb4a5",
   "metadata": {},
   "outputs": [],
   "source": [
    "# Define the path to your dataset folder\n",
    "# data_dir = 'gtzan_dataset/Data/genres_original'\n",
    "\n",
    "# Load the dataset using LoadDataset\n",
    "# dataset = datasets.LoadDataset(data_dir, transform=audio_transform)"
   ]
  },
  {
   "cell_type": "code",
   "execution_count": 10,
   "id": "b80ecb68-0ea3-4f5a-a05e-2b78873b4295",
   "metadata": {},
   "outputs": [
    {
     "name": "stdout",
     "output_type": "stream",
     "text": [
      "Number of classes: 10\n",
      "Class names: ['blues', 'classical', 'country', 'disco', 'hiphop', 'jazz', 'metal', 'pop', 'reggae', 'rock']\n"
     ]
    }
   ],
   "source": [
    "# Determine the number of classes and extract their names from the dataset for analysis.\n",
    "num_classes = len(dataset.classes)\n",
    "class_names = dataset.classes\n",
    "\n",
    "print(\"Number of classes:\", num_classes)\n",
    "print(\"Class names:\", class_names)"
   ]
  },
  {
   "cell_type": "code",
   "execution_count": 11,
   "id": "2fd7e6ad-3b35-4f4f-96ef-28d828ff686d",
   "metadata": {},
   "outputs": [
    {
     "name": "stdout",
     "output_type": "stream",
     "text": [
      "Total number of audio samples: 1000\n"
     ]
    }
   ],
   "source": [
    "# Calculate the total number of audios in the dataset\n",
    "num_images = len(dataset)\n",
    "print(\"Total number of audio samples:\", num_images)"
   ]
  },
  {
   "cell_type": "markdown",
   "id": "6af465b9-c089-4411-8c07-ae38f9e91443",
   "metadata": {},
   "source": [
    "### Split the dataset\n",
    "\r\n",
    "Divide a dataset into three independent sets: training, validation, and testing. The size of each subset is determined by preset proportions—70% for training, 20% for validation, and the remainder for testing. \r\n",
    "Using PyTorch's random_split() method, the dataset is randomly divided into the required proportions. "
   ]
  },
  {
   "cell_type": "code",
   "execution_count": 12,
   "id": "51220b72-810c-47ad-a036-eb6e132d3e85",
   "metadata": {},
   "outputs": [
    {
     "name": "stdout",
     "output_type": "stream",
     "text": [
      "Training set size: 700\n",
      "Validation set size: 200\n",
      "Test set size: 100\n"
     ]
    }
   ],
   "source": [
    "# Set the size of each split.\n",
    "dataset_size = len(dataset)\n",
    "train_size = int(0.7 * dataset_size)\n",
    "val_size = int(0.2 * dataset_size)\n",
    "test_size = dataset_size - train_size - val_size\n",
    "\n",
    "# Randomly partition the dataset.\n",
    "train_dataset, val_dataset, test_dataset = random_split(dataset, [train_size, val_size, test_size])\n",
    "\n",
    "# Verify the sizes of each split.\n",
    "print(f\"Training set size: {len(train_dataset)}\")\n",
    "print(f\"Validation set size: {len(val_dataset)}\")\n",
    "print(f\"Test set size: {len(test_dataset)}\")"
   ]
  },
  {
   "cell_type": "markdown",
   "id": "a735cd6b-eed0-489f-be49-401f2c5298be",
   "metadata": {},
   "source": [
    "### Define Data loaders\n",
    "\n",
    "We set up the data loaders. \n",
    "Every loader is designed to function with a certain subset of the dataset, whether for testing, validation, or training. \n",
    "\n",
    "While the 'val_loader' and 'test_loader' use the same batch size, they do not shuffle their datasets, which is a usual practice for validation and test data to maintain consistency throughout assessment. The 'train_loader' is set to a batch size of 32 and supports data shuffling to introduce unpredictability during training epochs. \n",
    "No additional processes are created to load data, as evidenced by the option 'num_workers' being set to 0 across all loaders. \n",
    "\n",
    "Configuring these loaders improves efficiency and makes it easier to train and evaluate models on various subsets."
   ]
  },
  {
   "cell_type": "code",
   "execution_count": 13,
   "id": "660498ec-140c-4911-a235-44c2389d1fa0",
   "metadata": {},
   "outputs": [],
   "source": [
    "# DataLoader\n",
    "train_loader = DataLoader(train_dataset, batch_size=32, shuffle=True)\n",
    "val_loader = DataLoader(val_dataset, batch_size=32)\n",
    "test_loader = DataLoader(test_dataset, batch_size=32)"
   ]
  },
  {
   "cell_type": "code",
   "execution_count": 14,
   "id": "c68791aa-db3b-4f82-92f6-717c667efe3c",
   "metadata": {},
   "outputs": [
    {
     "name": "stdout",
     "output_type": "stream",
     "text": [
      "Number of batches in training DataLoader: 22\n",
      "Number of batches in validation DataLoader: 7\n",
      "Number of batches in test DataLoader: 4\n"
     ]
    }
   ],
   "source": [
    "print(f\"Number of batches in training DataLoader: {len(train_loader)}\")\n",
    "print(f\"Number of batches in validation DataLoader: {len(val_loader)}\")\n",
    "print(f\"Number of batches in test DataLoader: {len(test_loader)}\")"
   ]
  },
  {
   "cell_type": "code",
   "execution_count": 15,
   "id": "2c2c7467-b44b-47e9-bbb7-bffabbb5b3c7",
   "metadata": {},
   "outputs": [
    {
     "name": "stdout",
     "output_type": "stream",
     "text": [
      "\n",
      "Size of the first batch in training DataLoader:\n",
      "Audios shape: torch.Size([32, 220500])\n",
      "Labels shape: torch.Size([32])\n",
      "\n",
      "Size of the first batch in validation DataLoader:\n",
      "Audios shape: torch.Size([32, 220500])\n",
      "Labels shape: torch.Size([32])\n",
      "\n",
      "Size of the first batch in test DataLoader:\n",
      "Audios shape: torch.Size([32, 220500])\n",
      "Labels shape: torch.Size([32])\n"
     ]
    }
   ],
   "source": [
    "# Print the size of the first batch of each DataLoader.\n",
    "for loader_name, loader in zip([\"training\", \"validation\", \"test\"], [train_loader, val_loader, test_loader]):\n",
    "    print(f\"\\nSize of the first batch in {loader_name} DataLoader:\")\n",
    "    for audios, labels in loader:\n",
    "        print(\"Audios shape:\", audios.shape)\n",
    "        print(\"Labels shape:\", labels.shape)\n",
    "        break"
   ]
  },
  {
   "cell_type": "markdown",
   "id": "a0f2dc43-6f92-484d-b011-75d62381c768",
   "metadata": {},
   "source": [
    "Based on CUDA availability, this line of code chooses the device (CPU or GPU) for PyTorch operations. It sets the device to 'cuda' for CUDA-enabled GPUs; if not, it defaults to 'cpu' for CPU-based processing."
   ]
  },
  {
   "cell_type": "code",
   "execution_count": 16,
   "id": "0be53e46-cb05-4a9f-a925-61e5c7bda3ff",
   "metadata": {},
   "outputs": [],
   "source": [
    "device = torch.device('cuda' if torch.cuda.is_available() else 'cpu')"
   ]
  },
  {
   "cell_type": "markdown",
   "id": "cc6366cd-9aa7-45a9-a1c1-48cb24af6a29",
   "metadata": {},
   "source": [
    "We now check the shape of inputs array."
   ]
  },
  {
   "cell_type": "code",
   "execution_count": 17,
   "id": "25250830-c886-47b6-94be-c5d503ca089a",
   "metadata": {},
   "outputs": [
    {
     "name": "stdout",
     "output_type": "stream",
     "text": [
      "Input shape: torch.Size([32, 220500])\n"
     ]
    }
   ],
   "source": [
    "# Determine the form of the 'audios' array.\n",
    "inputs= audios.shape\n",
    "\n",
    "# Print the shape of the input array.\n",
    "print('Input shape:', inputs)"
   ]
  },
  {
   "cell_type": "markdown",
   "id": "fede2459-6198-4ba5-8c6a-3bb04faa6be0",
   "metadata": {},
   "source": [
    "### Function train_model\n",
    "\n",
    "This function train_model manages the training of a given model across a predetermined number of epochs, using specific criteria, optimizer, and data loader. It iterates through each epoch, computing loss, performing backpropagation, and adjusting model parameters as needed, all while recording the average loss of each epoch to measure training progress."
   ]
  },
  {
   "cell_type": "code",
   "execution_count": 18,
   "id": "addeda72-f5b4-4438-9cb9-f4fb65c4e22f",
   "metadata": {},
   "outputs": [],
   "source": [
    "# Define the training function.\n",
    "def train_model(model, criterion, optimizer, train_loader, num_epochs):\n",
    "    # Set the model to training mode.\n",
    "    model.train()\n",
    "    \n",
    "    # Iterate over each epoch.\n",
    "    for epoch in range(num_epochs):\n",
    "        # Set running loss.\n",
    "        running_loss = 0.0\n",
    "        \n",
    "        # Iterate over each batch in the training loader.\n",
    "        for audios, labels in train_loader:\n",
    "            # Transfer data to the device.\n",
    "            audios, labels = audios.to(device), labels.to(device) \n",
    "            # Set the parameter gradients to zero.\n",
    "            optimizer.zero_grad()\n",
    "            # Forward Pass.\n",
    "            outputs = model(audios)\n",
    "            # Calculate the loss amount.\n",
    "            loss = criterion(outputs, labels)\n",
    "            # Backward pass.\n",
    "            loss.backward()\n",
    "            # Update the weights.\n",
    "            optimizer.step()\n",
    "            # Calculate the loss.\n",
    "            running_loss += loss.item() * audios.size(0)\n",
    "\n",
    "        # Calculate epoch loss.\n",
    "        epoch_loss = running_loss / len(train_loader.dataset)\n",
    "        # Print the epoch loss.\n",
    "        print(f\"Epoch [{epoch+1}/{num_epochs}], Loss: {epoch_loss:.4f}\")"
   ]
  },
  {
   "cell_type": "markdown",
   "id": "402951b4-881d-4bb0-a478-2a143992bdf8",
   "metadata": {},
   "source": [
    "### Function evaluate_model\n",
    "\n",
    "This function, evaluate_model is crucial for evaluating a model's performance with a specified data loader. It switches the model into evaluation mode to prohibit parameter modifications during evaluation. Predictions for data samples are generated while the data loader iterates through each batch. By comparing these predictions to the actual labels, it calculates the model's accuracy on the dataset. This function is an important tool for assessing a model's capacity to generalize to previously encountered data without changing its parameters."
   ]
  },
  {
   "cell_type": "code",
   "execution_count": 19,
   "id": "29ca32bd-83d8-40ba-bfdc-b6b6da87028f",
   "metadata": {},
   "outputs": [],
   "source": [
    "# Define the evaluation function.\n",
    "def evaluate_model(model, data_loader):\n",
    "    # Set the model to evaluation mode.\n",
    "    model.eval()\n",
    "    # Initialize the amount of correctly predicted samples and the total number of samples.\n",
    "    correct = 0\n",
    "    total = 0\n",
    "\n",
    "    # Disable gradient evaluation.\n",
    "    with torch.no_grad():\n",
    "        # Iterate over each batch in the data loader.\n",
    "        for audios, labels in data_loader:\n",
    "            # Transfer data to device.\n",
    "            audios, labels = audios.to(device), labels.to(device)\n",
    "            # Forward pass.\n",
    "            outputs = model(audios)\n",
    "            # Calculate predicted labels.\n",
    "            _, predicted = torch.max(outputs.data, 1)\n",
    "            # Increase total count by batch size.\n",
    "            total += labels.size(0)\n",
    "            # Count correct predictions.\n",
    "            correct += (predicted == labels).sum().item()\n",
    "\n",
    "    # Calculate accuracy and return it.\n",
    "    accuracy = correct / total\n",
    "    return accuracy"
   ]
  },
  {
   "cell_type": "markdown",
   "id": "e89d7e45-fed7-4652-8ad8-fd1b853c77f2",
   "metadata": {},
   "source": [
    "### Function get_all_predictions\n",
    "\n",
    "This function, 'get_all_predictions', runs in evaluation mode and iterates through the specified data loader. It predicts audio samples using a trained algorithm. These forecasts, together with their respective ground truth labels, are gathered and returned. The function enables the aggregation of all predictions and ground truth labels from the dataset, which is required for further analysis and assessment of the model's performance."
   ]
  },
  {
   "cell_type": "code",
   "execution_count": 20,
   "id": "2d310d86-6786-4fd1-9d95-c3bcefbd51cf",
   "metadata": {},
   "outputs": [],
   "source": [
    "def get_all_predictions(model, data_loader):\n",
    "    # Set up lists to contain all predictions and ground truth labels.\n",
    "    all_predictions = []\n",
    "    all_targets = []\n",
    "    # Set the model to evaluation mode\n",
    "    model.eval()\n",
    "\n",
    "    # Disable gradient computation\n",
    "    with torch.no_grad():\n",
    "        # Iterate over each batch in the data loader\n",
    "        for audios, labels in data_loader:\n",
    "            # Transfer data to the proper device.\n",
    "            audios, labels = audios.to(device), labels.to(device)\n",
    "            # Forward Pass\n",
    "            outputs = model(audios)\n",
    "            # Obtain predicted labels.\n",
    "            _, predicted = torch.max(outputs, 1)\n",
    "            # Expand the list of predictions and ground truth labels.\n",
    "            all_predictions.extend(predicted.cpu().numpy())\n",
    "            all_targets.extend(labels.cpu().numpy())\n",
    "\n",
    "    # Return all predicted and ground truth labels.\n",
    "    return all_predictions, all_targets"
   ]
  },
  {
   "cell_type": "markdown",
   "id": "35e7fc50-480d-4404-a12f-8a2770908af8",
   "metadata": {},
   "source": [
    "# Two architectures:\n",
    "## 1. An RNN network with LSTMs."
   ]
  },
  {
   "cell_type": "markdown",
   "id": "31a38d4f-8f4f-43c4-9f57-3aa6c84fdcff",
   "metadata": {},
   "source": [
    "This code develops a neural network model named 'Net5' with PyTorch's 'nn.Module' class. It is intended for sequence data processing, most likely for applications like time series prediction or sequence categorization. \n",
    "\n",
    "Initiation ('__init__'): \n",
    " - Sets up the LSTM layer with the provided input size, hidden size, number of layers, and output classes. \n",
    " - Also creates a fully linked (linear) layer for categorization. \n",
    "\n",
    "  Forward Pass ('forward'):\n",
    "- Reshapes the input tensor 'x' to include a third dimension for batch size.\n",
    " - Sets the hidden and cell states ('h0' and 'c0') of the LSTM to zeros.\n",
    " - Sends the input through the LSTM layer ('self.lstm') to produce the output sequence 'out'.\n",
    " - Indexes the output from the sequence's last time step ('out[:, -1,:]').\n",
    " - To acquire the final output, pass this last time step output via the fully connected layer ('self.fc').\n",
    "\n",
    "In summary, this model runs input sequences through an LSTM layer before utilizing the result from the last time step to classify using a fully connected layer."
   ]
  },
  {
   "cell_type": "code",
   "execution_count": 21,
   "id": "0fd30abf-08ce-4ee1-b1df-a3ca555df3b7",
   "metadata": {},
   "outputs": [],
   "source": [
    "# Create a neural network class named Net5, which inherits from nn.Module.\n",
    "class Net5(nn.Module):\n",
    "    # Initialize the network's parameters.\n",
    "    def __init__(self, input_size, hidden_size, num_layers, num_classes):\n",
    "        # Invoke the constructor of the parent class.\n",
    "        super(Net5, self).__init__()\n",
    "        # Save the hidden size parameter and number of layers parameter.\n",
    "        self.hidden_size = hidden_size\n",
    "        self.num_layers = num_layers\n",
    "        # Define the LSTM layer's input size, hidden size, and number of layers.\n",
    "        # Set batch_first=True to make the output two-dimensional.\n",
    "        self.lstm = nn.LSTM(input_size, hidden_size, num_layers, batch_first=True)\n",
    "        # Define a fully connected layer to translate the LSTM output to classes.\n",
    "        self.fc = nn.Linear(hidden_size, num_classes)\n",
    "\n",
    "    # Define the forward pass method.\n",
    "    def forward(self, x):\n",
    "        # Reshape input to make it compatible with LSTM input format.\n",
    "        x = x.unsqueeze(1)  # Include a third dimension for batch size.      \n",
    "        # Initialize the hidden state and cell state with zeros.\n",
    "        h0 = torch.zeros(self.num_layers * 1, x.size(0), self.hidden_size).to(x.device)\n",
    "        c0 = torch.zeros(self.num_layers * 1, x.size(0), self.hidden_size).to(x.device)       \n",
    "        # Forward pass through LSTM layer.\n",
    "        out, _ = self.lstm(x, (h0, c0))      \n",
    "        # Decode the hidden state of the last time step.\n",
    "        out = self.fc(out[:, -1, :]) \n",
    "\n",
    "        # Return the output.\n",
    "        return out "
   ]
  },
  {
   "cell_type": "markdown",
   "id": "ab383d30-6004-497a-a4e3-13466a7f1399",
   "metadata": {},
   "source": [
    "Now define the model parameters and print them."
   ]
  },
  {
   "cell_type": "code",
   "execution_count": 22,
   "id": "a9a20111-bc3c-4322-b1f1-cb62d1ede81b",
   "metadata": {},
   "outputs": [],
   "source": [
    "# Model Parameters.\n",
    "input_size = 220500     # Size of input features (length of audio samples).\n",
    "hidden_size = 64        # Number of features in the hidden state of the LSTM.\n",
    "num_layers = 3          # Number of LSTM layers.\n",
    "num_classes = 10        # Number of output classes (music genres).\n",
    "learning_rate = 0.001   # Learning Rate of training.\n",
    "num_epochs_rnn = 50     # Number of Epochs to run."
   ]
  },
  {
   "cell_type": "code",
   "execution_count": 23,
   "id": "ab9c8b0f-25b3-4b31-86c3-68c9ea2a4530",
   "metadata": {},
   "outputs": [
    {
     "name": "stdout",
     "output_type": "stream",
     "text": [
      "Model Parameters:\n",
      "Input Size: 220500\n",
      "Hidden Layer Size: 64\n",
      "Number of LSTM Layers: 3\n",
      "Number of Output classes: 10\n",
      "Learning Rate: 0.001\n",
      "Number of epochs to run: 50\n"
     ]
    }
   ],
   "source": [
    "# Print Model Parameters.\n",
    "print(\"Model Parameters:\")\n",
    "print(\"Input Size:\", input_size)\n",
    "print(\"Hidden Layer Size:\", hidden_size)\n",
    "print(\"Number of LSTM Layers:\", num_layers)\n",
    "print(\"Number of Output classes:\", num_classes)\n",
    "print(\"Learning Rate:\", learning_rate)\n",
    "print(\"Number of epochs to run:\", num_epochs_rnn)"
   ]
  },
  {
   "cell_type": "markdown",
   "id": "ecdc356c-808e-49d5-8304-9593238942de",
   "metadata": {},
   "source": [
    "#### Training the model: \n",
    "Train the model for 50 epochs."
   ]
  },
  {
   "cell_type": "code",
   "execution_count": 24,
   "id": "47069a4e-c776-4b61-a4be-4154555ce6b9",
   "metadata": {},
   "outputs": [],
   "source": [
    "# Initialize the Net5 model, define loss function and optimizer.\n",
    "rnn_lstm_50epochs = Net5(input_size, hidden_size, num_layers, num_classes).to(device)\n",
    "criterion = nn.CrossEntropyLoss()\n",
    "optimizer = optim.Adam(rnn_lstm_50epochs.parameters(), lr=learning_rate)"
   ]
  },
  {
   "cell_type": "code",
   "execution_count": 25,
   "id": "bc3a2c54-804c-4485-98f2-9b8195e7998f",
   "metadata": {},
   "outputs": [
    {
     "name": "stdout",
     "output_type": "stream",
     "text": [
      "Epoch [1/50], Loss: 2.3058\n",
      "Epoch [2/50], Loss: 2.2823\n",
      "Epoch [3/50], Loss: 2.1968\n",
      "Epoch [4/50], Loss: 1.8796\n",
      "Epoch [5/50], Loss: 1.2609\n",
      "Epoch [6/50], Loss: 0.6458\n",
      "Epoch [7/50], Loss: 0.2817\n",
      "Epoch [8/50], Loss: 0.1269\n",
      "Epoch [9/50], Loss: 0.0659\n",
      "Epoch [10/50], Loss: 0.0408\n",
      "Epoch [11/50], Loss: 0.0294\n",
      "Epoch [12/50], Loss: 0.0227\n",
      "Epoch [13/50], Loss: 0.0183\n",
      "Epoch [14/50], Loss: 0.0152\n",
      "Epoch [15/50], Loss: 0.0129\n",
      "Epoch [16/50], Loss: 0.0111\n",
      "Epoch [17/50], Loss: 0.0097\n",
      "Epoch [18/50], Loss: 0.0086\n",
      "Epoch [19/50], Loss: 0.0077\n",
      "Epoch [20/50], Loss: 0.0069\n",
      "Epoch [21/50], Loss: 0.0062\n",
      "Epoch [22/50], Loss: 0.0057\n",
      "Epoch [23/50], Loss: 0.0052\n",
      "Epoch [24/50], Loss: 0.0048\n",
      "Epoch [25/50], Loss: 0.0044\n",
      "Epoch [26/50], Loss: 0.0041\n",
      "Epoch [27/50], Loss: 0.0038\n",
      "Epoch [28/50], Loss: 0.0035\n",
      "Epoch [29/50], Loss: 0.0033\n",
      "Epoch [30/50], Loss: 0.0031\n",
      "Epoch [31/50], Loss: 0.0029\n",
      "Epoch [32/50], Loss: 0.0027\n",
      "Epoch [33/50], Loss: 0.0026\n",
      "Epoch [34/50], Loss: 0.0024\n",
      "Epoch [35/50], Loss: 0.0023\n",
      "Epoch [36/50], Loss: 0.0022\n",
      "Epoch [37/50], Loss: 0.0021\n",
      "Epoch [38/50], Loss: 0.0020\n",
      "Epoch [39/50], Loss: 0.0019\n",
      "Epoch [40/50], Loss: 0.0018\n",
      "Epoch [41/50], Loss: 0.0017\n",
      "Epoch [42/50], Loss: 0.0016\n",
      "Epoch [43/50], Loss: 0.0016\n",
      "Epoch [44/50], Loss: 0.0015\n",
      "Epoch [45/50], Loss: 0.0014\n",
      "Epoch [46/50], Loss: 0.0014\n",
      "Epoch [47/50], Loss: 0.0013\n",
      "Epoch [48/50], Loss: 0.0013\n",
      "Epoch [49/50], Loss: 0.0012\n",
      "Epoch [50/50], Loss: 0.0012\n"
     ]
    }
   ],
   "source": [
    "# Train Net5 Model for 50 epochs.\n",
    "train_model(rnn_lstm_50epochs, criterion, optimizer, train_loader, num_epochs=num_epochs_rnn)"
   ]
  },
  {
   "cell_type": "markdown",
   "id": "830d8abc-95bf-402a-87ee-37eb62da342f",
   "metadata": {},
   "source": [
    "#### Evaluation on Training set\n",
    "\n",
    "Calculate the accuracy of Net5 on the training set after 50 epochs."
   ]
  },
  {
   "cell_type": "code",
   "execution_count": 26,
   "id": "567d2895-16ac-4d6e-a2a4-ace8a97f8304",
   "metadata": {},
   "outputs": [
    {
     "name": "stdout",
     "output_type": "stream",
     "text": [
      "Training Accuracy after 50 epochs: 1.0000\n"
     ]
    }
   ],
   "source": [
    "# Evaluate Net5 on the training set after 50 epochs.\n",
    "train_accuracy_50epochs = evaluate_model(rnn_lstm_50epochs, train_loader)\n",
    "print(f\"Training Accuracy after 50 epochs: {train_accuracy_50epochs:.4f}\")"
   ]
  },
  {
   "cell_type": "markdown",
   "id": "d9af0fad-84ec-4ac7-aa9d-1d3a16a2a196",
   "metadata": {},
   "source": [
    "#### Validation\n",
    "\n",
    "Validate Net5 Model by calculating the accuracy of the model on the validation set."
   ]
  },
  {
   "cell_type": "code",
   "execution_count": 59,
   "id": "a30855ba-2a49-47aa-9fc6-f9998990d3e9",
   "metadata": {},
   "outputs": [
    {
     "name": "stdout",
     "output_type": "stream",
     "text": [
      "Validation Accuracy after 50 epochs: 0.1100\n"
     ]
    }
   ],
   "source": [
    "# Evaluate LSTM on the validation set after 50 epochs.\n",
    "val_accuracy_50epochs = evaluate_model(rnn_lstm_50epochs, val_loader)\n",
    "print(f\"Validation Accuracy after 50 epochs: {val_accuracy_50epochs:.4f}\")"
   ]
  },
  {
   "cell_type": "markdown",
   "id": "18351be5-c1f8-440c-b5b1-e9c98ec1855a",
   "metadata": {},
   "source": [
    "#### Testing\n",
    "\n",
    "Test the Net5 Model on the test dataset."
   ]
  },
  {
   "cell_type": "code",
   "execution_count": 28,
   "id": "f0e2f273-bcf4-4bf3-b31f-cfe30361294b",
   "metadata": {},
   "outputs": [
    {
     "name": "stdout",
     "output_type": "stream",
     "text": [
      "Test Accuracy after 50 epochs: 0.1300\n"
     ]
    }
   ],
   "source": [
    "# Evaluate LSTM on the test set after 50 epochs.\n",
    "test_accuracy_50epochs = evaluate_model(rnn_lstm_50epochs, test_loader)\n",
    "print(f\"Test Accuracy after 50 epochs: {test_accuracy_50epochs:.4f}\")"
   ]
  },
  {
   "cell_type": "markdown",
   "id": "989fe112-c278-4acc-9282-d3f6f04c90a4",
   "metadata": {},
   "source": [
    "#### Evaluation of all the results of Net5\n",
    "\n",
    "##### 1. Create Confusion Matrix\n",
    "\n",
    "Plot a Confusion matrix for 50 epochs."
   ]
  },
  {
   "cell_type": "code",
   "execution_count": 29,
   "id": "0a6acfe2-bf81-4131-b4a1-b89f8fcc201b",
   "metadata": {},
   "outputs": [
    {
     "data": {
      "image/png": "[encoded data removed]",
      "text/plain": [
       "<Figure size 1000x800 with 1 Axes>"
      ]
     },
     "metadata": {},
     "output_type": "display_data"
    }
   ],
   "source": [
    "# Get all predictions and targets for the test set.\n",
    "all_predictions, all_targets = get_all_predictions(rnn_lstm_50epochs, test_loader)\n",
    "\n",
    "# Calculate confusion matrix.\n",
    "cm = confusion_matrix(all_targets, all_predictions)\n",
    "\n",
    "# Plot confusion matrix.\n",
    "plt.figure(figsize=(10, 8))\n",
    "sns.heatmap(cm, annot=True, fmt='d', cmap='Blues', cbar=False)\n",
    "plt.xlabel('Predicted Label')\n",
    "plt.ylabel('True Label')\n",
    "plt.title('Confusion Matrix (50 epochs)')\n",
    "plt.show()"
   ]
  },
  {
   "cell_type": "markdown",
   "id": "0f9d22c1-eb87-4b97-9038-9a18936656e4",
   "metadata": {},
   "source": [
    "##### 2. Generate the Classification report\n",
    "\n",
    "It provides detailed evaluation metrics for each class in a multi-class classification problem for 50 epochs."
   ]
  },
  {
   "cell_type": "code",
   "execution_count": 30,
   "id": "216efe59-48f9-47f2-8b3b-2964cc8ea9ee",
   "metadata": {},
   "outputs": [
    {
     "name": "stdout",
     "output_type": "stream",
     "text": [
      "Classification Report (50 epochs):\n",
      "              precision    recall  f1-score   support\n",
      "\n",
      "       blues       0.25      0.15      0.19        13\n",
      "   classical       0.17      0.08      0.11        13\n",
      "     country       0.18      0.20      0.19        10\n",
      "       disco       0.09      0.07      0.08        14\n",
      "      hiphop       0.08      0.17      0.11         6\n",
      "        jazz       0.40      0.20      0.27        10\n",
      "       metal       0.00      0.00      0.00         4\n",
      "         pop       0.08      0.09      0.09        11\n",
      "      reggae       0.27      0.38      0.32         8\n",
      "        rock       0.00      0.00      0.00        11\n",
      "\n",
      "    accuracy                           0.13       100\n",
      "   macro avg       0.15      0.13      0.13       100\n",
      "weighted avg       0.16      0.13      0.14       100\n",
      "\n"
     ]
    }
   ],
   "source": [
    "# Calculate classification report.\n",
    "report = classification_report(all_targets, all_predictions, target_names=class_names)\n",
    "print(\"Classification Report (50 epochs):\")\n",
    "print(report)"
   ]
  },
  {
   "cell_type": "markdown",
   "id": "f47a5ed4-3d2e-44ef-9295-f02a6252f309",
   "metadata": {},
   "source": [
    "##### 3. Calculate the Precision, Recall and F1-score\n",
    "\n",
    "For each class, Calculate the Precision Recall and F1-score for 50 epochs. Also calculate the overall metrics."
   ]
  },
  {
   "cell_type": "code",
   "execution_count": 31,
   "id": "7bbcea4a-1e11-479d-895a-7331cb9abbb4",
   "metadata": {},
   "outputs": [
    {
     "name": "stdout",
     "output_type": "stream",
     "text": [
      "Class-wise Evaluation Metrics:\n",
      "       Class  Precision    Recall  F1-score\n",
      "0      blues   0.250000  0.153846  0.190476\n",
      "1  classical   0.166667  0.076923  0.105263\n",
      "2    country   0.181818  0.200000  0.190476\n",
      "3      disco   0.090909  0.071429  0.080000\n",
      "4     hiphop   0.083333  0.166667  0.111111\n",
      "5       jazz   0.400000  0.200000  0.266667\n",
      "6      metal   0.000000  0.000000  0.000000\n",
      "7        pop   0.083333  0.090909  0.086957\n",
      "8     reggae   0.272727  0.375000  0.315789\n",
      "9       rock   0.000000  0.000000  0.000000\n"
     ]
    }
   ],
   "source": [
    "# Calculate precision, recall, and F1-score for each class.\n",
    "precision_per_class = precision_score(all_targets, all_predictions, average=None)\n",
    "recall_per_class = recall_score(all_targets, all_predictions, average=None)\n",
    "f1_per_class = f1_score(all_targets, all_predictions, average=None)\n",
    "\n",
    "# Create a dictionary to store class-wise evaluation metrics.\n",
    "class_metrics = {\n",
    "    \"Class\": class_names,\n",
    "    \"Precision\": precision_per_class,\n",
    "    \"Recall\": recall_per_class,\n",
    "    \"F1-score\": f1_per_class\n",
    "}\n",
    "\n",
    "# Print class-wise evaluation metrics.\n",
    "class_metrics_df = pd.DataFrame(class_metrics)\n",
    "print(\"Class-wise Evaluation Metrics:\")\n",
    "print(class_metrics_df)\n",
    "\n",
    "# Calculate overall evaluation metrics.\n",
    "overall_precision = precision_score(all_targets, all_predictions, average='weighted')\n",
    "overall_recall = recall_score(all_targets, all_predictions, average='weighted')\n",
    "overall_f1 = f1_score(all_targets, all_predictions, average='weighted')"
   ]
  },
  {
   "cell_type": "code",
   "execution_count": 32,
   "id": "c9f542d8-f674-4c8b-9512-813e73e0bccd",
   "metadata": {},
   "outputs": [
    {
     "name": "stdout",
     "output_type": "stream",
     "text": [
      "\n",
      "Overall Precision: 0.1610606060606061\n",
      "Overall Recall: 0.13\n",
      "Overall F1-score: 0.13685544295521412\n"
     ]
    }
   ],
   "source": [
    "# Print overall evaluation metrics.\n",
    "print(\"Overall Precision:\", overall_precision)\n",
    "print(\"Overall Recall:\", overall_recall)\n",
    "print(\"Overall F1-score:\", overall_f1)"
   ]
  },
  {
   "cell_type": "markdown",
   "id": "17c79513-634f-4090-bdfb-d068f2e2785b",
   "metadata": {},
   "source": [
    "##### 4. Plot the Precision-Recall curve\n",
    "\n",
    "For each class, Plot the Precision-Recall curve for 50 epochs."
   ]
  },
  {
   "cell_type": "code",
   "execution_count": 33,
   "id": "89ba9733-0331-4b0f-b297-50fcdf63874d",
   "metadata": {},
   "outputs": [
    {
     "data": {
      "image/png": "[encoded data removed]",
      "text/plain": [
       "<Figure size 800x600 with 1 Axes>"
      ]
     },
     "metadata": {},
     "output_type": "display_data"
    }
   ],
   "source": [
    "# Initialize empty lists to store precision and recall for each class.\n",
    "precision_per_class = []\n",
    "recall_per_class = []\n",
    "\n",
    "# Iterate over each class.\n",
    "for i in range(num_classes):\n",
    "    # Treat the current class as positive, and all other classes as negative.\n",
    "    y_true_class = [1 if label == i else 0 for label in all_targets]\n",
    "    y_score_class = [1 if label == i else 0 for label in all_predictions]   \n",
    "    # Compute precision and recall for the current class.\n",
    "    precision, recall, _ = precision_recall_curve(y_true_class, y_score_class)    \n",
    "    # Append precision and recall to the lists.\n",
    "    precision_per_class.append(precision)\n",
    "    recall_per_class.append(recall)\n",
    "\n",
    "# Plot precision-recall curve for each class.\n",
    "plt.figure(figsize=(8, 6))\n",
    "for i in range(num_classes):\n",
    "    plt.plot(recall_per_class[i], precision_per_class[i], label=f'Class {i}')\n",
    "plt.xlabel('Recall')\n",
    "plt.ylabel('Precision')\n",
    "plt.title('Precision-Recall Curve for Each Class')\n",
    "plt.legend()\n",
    "plt.grid(True)\n",
    "plt.show()"
   ]
  },
  {
   "cell_type": "markdown",
   "id": "2b83f01e-998e-4f7c-a1de-13348296c8a2",
   "metadata": {},
   "source": [
    "##### 5. Calculate the area under the Precision-Recall curve.\n",
    "\n",
    "For each class, Calculate the area under the Precision-Recall curve for 50 epochs."
   ]
  },
  {
   "cell_type": "code",
   "execution_count": 34,
   "id": "19055054-17b9-438b-8b51-22eb48a70dcc",
   "metadata": {},
   "outputs": [
    {
     "name": "stdout",
     "output_type": "stream",
     "text": [
      "Class 0: AUC = 0.2569230769230769\n",
      "Class 1: AUC = 0.1817948717948718\n",
      "Class 2: AUC = 0.23090909090909095\n",
      "Class 3: AUC = 0.14616883116883117\n",
      "Class 4: AUC = 0.14999999999999997\n",
      "Class 5: AUC = 0.33999999999999997\n",
      "Class 6: AUC = 0.02\n",
      "Class 7: AUC = 0.13712121212121212\n",
      "Class 8: AUC = 0.3488636363636364\n",
      "Class 9: AUC = 0.055\n"
     ]
    }
   ],
   "source": [
    "# Initialize empty list to store area under curve for each class.\n",
    "auc_per_class = []\n",
    "\n",
    "# Iterate over each class.\n",
    "for i in range(num_classes):\n",
    "    # Treat the current class as positive, and all other classes as negative.\n",
    "    y_true_class = [1 if label == i else 0 for label in all_targets]\n",
    "    y_score_class = [1 if label == i else 0 for label in all_predictions]\n",
    "    # Compute precision and recall for the current class.\n",
    "    precision, recall, _ = precision_recall_curve(y_true_class, y_score_class)\n",
    "    # Calculate area under curve (AUC) for precision-recall curve of the current class.\n",
    "    auc_class = auc(recall, precision)\n",
    "    # Append AUC to the list.\n",
    "    auc_per_class.append(auc_class)\n",
    "\n",
    "# Print area under curve for each class.\n",
    "for i in range(num_classes):\n",
    "    print(f\"Class {i}: AUC = {auc_per_class[i]}\")"
   ]
  },
  {
   "cell_type": "markdown",
   "id": "bc7fc623-cbf9-434f-9398-fad4fb68a21e",
   "metadata": {},
   "source": [
    "##### 6. Calculate class-wise accuracy.\n",
    "\n",
    "For each class, Calculate class-wise accuracy for 50 epochs."
   ]
  },
  {
   "cell_type": "code",
   "execution_count": 35,
   "id": "d0bb2dd8-ca9a-4371-bc98-c69cfb1c7102",
   "metadata": {},
   "outputs": [
    {
     "name": "stdout",
     "output_type": "stream",
     "text": [
      "Class 'blues' Accuracy: 0.1538\n",
      "Class 'classical' Accuracy: 0.0769\n",
      "Class 'country' Accuracy: 0.2000\n",
      "Class 'disco' Accuracy: 0.0714\n",
      "Class 'hiphop' Accuracy: 0.1667\n",
      "Class 'jazz' Accuracy: 0.2000\n",
      "Class 'metal' Accuracy: 0.0000\n",
      "Class 'pop' Accuracy: 0.0909\n",
      "Class 'reggae' Accuracy: 0.3750\n",
      "Class 'rock' Accuracy: 0.0000\n"
     ]
    }
   ],
   "source": [
    "# Calculate class-wise accuracy.\n",
    "class_accuracy = cm.diagonal() / cm.sum(axis=1)\n",
    "for i, acc in enumerate(class_accuracy):\n",
    "    print(f\"Class '{class_names[i]}' Accuracy: {acc:.4f}\")"
   ]
  },
  {
   "cell_type": "markdown",
   "id": "29aaf6c9-07d0-4099-9df0-5e0e65df4b46",
   "metadata": {},
   "source": [
    "## 2. The same architecture as Net5, together with GANs generating audio samples augmenting the training audio samples \n",
    "##### (Generating the same number of audio samples as the original number of training audio samples)."
   ]
  },
  {
   "cell_type": "markdown",
   "id": "58333d25-acbd-4302-ae8e-6e81d8e3d4b3",
   "metadata": {},
   "source": [
    "This code defines the Generator and Discriminator networks, which are essential components of Generative Adversarial Networks (GANs), a deep learning architecture for creating synthetic data."
   ]
  },
  {
   "cell_type": "markdown",
   "id": "a4718ffa-9ac1-40e0-bcb8-0208ad91ca63",
   "metadata": {},
   "source": [
    "Generator:\n",
    "The Generator creates synthetic data samples that mimic genuine data.\n"
   ]
  },
  {
   "cell_type": "markdown",
   "id": "23b26262-0652-43f9-b756-0e899b7afc34",
   "metadata": {},
   "source": [
    "The __init__ function initializes the Generator module.\n",
    "  - 'latent_dim' specifies the dimensionality of the input noise vector (latent space), which is usually a random vector drawn from a Gaussian distribution.\n",
    "  - 'output_dim' represents the dimensionality of the created output data.\n",
    "  - The generator model is made up of a series of completely linked (linear) layers followed by ReLU activation functions, with the exception of the last layer, which employs a Tanh activation. Tanh is widely used to scale the output to the range [-1, 1], which is appropriate for audio or visual data.\n",
    "    \n",
    "The 'forward' function defines the Generator's forward pass.\n",
    "  - 'z' represents the input noise vector.\n",
    "  - - The input noise vector 'z' is routed through the sequential model, which produces the output data."
   ]
  },
  {
   "cell_type": "markdown",
   "id": "75944a16-71e0-4ef2-a30f-90982570bfce",
   "metadata": {},
   "source": [
    "Discriminator: The Discriminator is responsible for discriminating between authentic and fraudulent data samples."
   ]
  },
  {
   "cell_type": "markdown",
   "id": "c51b6c61-e958-4e4a-aa2d-64673b01f837",
   "metadata": {},
   "source": [
    "The __init__ function initializes the Discriminator module.\n",
    "  - 'input_dim' specifies the dimensionality of the input data samples (whether actual or created).\n",
    "  - The discriminator model is made up of a series of completely linked layers followed by ReLU activation functions, with the exception of the last layer, which utilizes a Sigmoid function. Sigmoid reduces the output to a range of 0 to 1, signifying the chance that the input is real.\n",
    "    \n",
    "The 'forward' function defines the Discriminator's forward pass.\n",
    "  - 'x' represents the input data sample (actual or created).\n",
    "  - The input data sample 'x' is fed through the sequential model, yielding the discriminator's classification output, which indicates the likelihood that the input is a true data sample.\r",
    "r."
   ]
  },
  {
   "cell_type": "markdown",
   "id": "35768d3f-64dc-42b3-9d47-9a38f981bf43",
   "metadata": {},
   "source": [
    "In short, the Generator creates bogus data samples from random noise, whereas the Discriminator attempts to discriminate between actual and fake data samples. During training, these two networks are repeatedly trained in a min-max game until the Generator learns to produce realistic examples that trick the discriminator."
   ]
  },
  {
   "cell_type": "code",
   "execution_count": 25,
   "id": "4168c5f3-29a3-47f5-82e2-805b1229f059",
   "metadata": {},
   "outputs": [],
   "source": [
    "# Define the Generator network.\n",
    "class Generator(nn.Module):\n",
    "    def __init__(self, latent_dim, output_dim):\n",
    "        super(Generator, self).__init__()    \n",
    "        # Dimensionality of the input noise vector (latent space).\n",
    "        self.latent_dim = latent_dim        \n",
    "        # Dimensionality of the generated output data.\n",
    "        self.output_dim = output_dim\n",
    "\n",
    "        # Sequential model for the Generator.\n",
    "        self.model = nn.Sequential(\n",
    "            nn.Linear(latent_dim, 128),          # Set linear layer latent_dim to 128 units.\n",
    "            nn.ReLU(),                           # ReLU activation function.\n",
    "            nn.Linear(128, 256),                 # Linear layer: 128 units to 256 units.\n",
    "            nn.ReLU(),                           # ReLU activation function.\n",
    "            nn.Linear(256, output_dim),          # Linear layer: 256 units to output_dim units.\n",
    "            nn.Tanh()                            # Tanh activation function for audio samples- scales output to [-1, 1].\n",
    "        )\n",
    "\n",
    "    # Forward pass: Apply the sequential model to the input noise vector z.\n",
    "    def forward(self, z):\n",
    "        return self.model(z)"
   ]
  },
  {
   "cell_type": "code",
   "execution_count": 26,
   "id": "617556c4-fae5-4efa-8beb-23a576743ef5",
   "metadata": {},
   "outputs": [],
   "source": [
    "# Define the Discriminator network.\n",
    "class Discriminator(nn.Module):\n",
    "    def __init__(self, input_dim):\n",
    "        super(Discriminator, self).__init__()\n",
    "        # Dimensionality of the input data samples.\n",
    "        self.input_dim = input_dim\n",
    "\n",
    "        # Sequential model for the Discriminator.\n",
    "        self.model = nn.Sequential(\n",
    "            nn.Linear(input_dim, 256),           # Set linear layer input_dim to 256 units.\n",
    "            nn.ReLU(),                           # ReLU activation function.\n",
    "            nn.Linear(256, 128),                 # Linear layer: 256 units to 128 units.\n",
    "            nn.ReLU(),                           # ReLU activation function.\n",
    "            nn.Linear(128, 1),                   # Linear layer: 128 units to 1 unit.\n",
    "            nn.Sigmoid()                         # Sigmoid activation function for binary classification- yields probability.\n",
    "        )\n",
    "\n",
    "    # Forward pass: use the sequential model with input data sample x.\n",
    "    def forward(self, x):\n",
    "        return self.model(x)"
   ]
  },
  {
   "cell_type": "markdown",
   "id": "e963f05e-19c3-4f45-841c-890c1d9e1c2e",
   "metadata": {},
   "source": [
    "#### Class AudioDatasetGAN:\n",
    "\n",
    "AudioDatasetGAN is tailored specifically for GAN training with labeled audio data."
   ]
  },
  {
   "cell_type": "code",
   "execution_count": 27,
   "id": "659279e7-4126-4239-b293-e618d22332ac",
   "metadata": {},
   "outputs": [],
   "source": [
    "class AudioDatasetGAN(torch.utils.data.Dataset):\n",
    "    def __init__(self, audio_samples, labels):\n",
    "        # Convert audio samples to PyTorch tensor\n",
    "        self.audio_samples = torch.tensor(audio_samples)  \n",
    "        # Convert labels to PyTorch tensor\n",
    "        self.labels = torch.tensor(labels)  \n",
    "\n",
    "    # Return the number of audio samples in the dataset\n",
    "    def __len__(self):\n",
    "        return len(self.audio_samples)\n",
    "\n",
    "    # Get the audio sample and label as a tuple and return it\n",
    "    def __getitem__(self, idx):\n",
    "        return self.audio_samples[idx], self.labels[idx]"
   ]
  },
  {
   "cell_type": "markdown",
   "id": "1a21ad09-3cf8-4f7d-86c7-67754c323f51",
   "metadata": {},
   "source": [
    "Now define the model parameters and print them."
   ]
  },
  {
   "cell_type": "code",
   "execution_count": 28,
   "id": "d0d52121-62ce-4427-bc1b-13adfb2983bb",
   "metadata": {},
   "outputs": [],
   "source": [
    "# Initialize GAN parameters\n",
    "latent_dim = 100                # Dimensionality of the latent space\n",
    "output_dim = 220500             # Dimensionality of the output audio samples\n",
    "input_dim = output_dim          # Dimensionality of the input to the discriminator\n",
    "num_epochs_gan = 50             # Number of Epochs to run.\n",
    "batch_size_gan = 32             # Batch size for training the GAN\n",
    "learning_rate_gan = 0.0002       # Learning rate for training the GAN"
   ]
  },
  {
   "cell_type": "code",
   "execution_count": 29,
   "id": "e68c5973-9b4e-49cd-97d7-a968ab515176",
   "metadata": {},
   "outputs": [
    {
     "name": "stdout",
     "output_type": "stream",
     "text": [
      "Model Parameters:\n",
      "Dimensionality of the latent space:  100\n",
      "Dimensionality of the output audio samples:  220500\n",
      "Dimensionality of the input to the discriminator:  220500\n",
      "Number of Epochs to run:  50\n",
      "Batch size for training the GAN:  32\n",
      "Learning rate:  0.0002\n"
     ]
    }
   ],
   "source": [
    "# Print Model Parameters.\n",
    "print(\"Model Parameters:\")\n",
    "print(\"Dimensionality of the latent space: \", latent_dim)              \n",
    "print(\"Dimensionality of the output audio samples: \", output_dim)\n",
    "print(\"Dimensionality of the input to the discriminator: \", input_dim)                  \n",
    "print(\"Number of Epochs to run: \", num_epochs_gan)\n",
    "print(\"Batch size for training the GAN: \", batch_size_gan)        \n",
    "print(\"Learning rate: \", learning_rate_gan) "
   ]
  },
  {
   "cell_type": "markdown",
   "id": "8b7c1378-6d4e-41ab-9ec5-7c4868ae27c6",
   "metadata": {},
   "source": [
    "This code creates a GAN with a generator and discriminator, configures a binary cross-entropy loss function for training, and defines Adam optimizers for both the generator and the discriminator with a defined learning rate.\r\n"
   ]
  },
  {
   "cell_type": "code",
   "execution_count": 30,
   "id": "4b8e5522-d5d1-4f5f-9e51-24084f9e7612",
   "metadata": {},
   "outputs": [],
   "source": [
    "# Initialize the GAN components.\n",
    "# Initialize the Generator with the supplied latent and output dimensions.\n",
    "generator = Generator(latent_dim, output_dim)\n",
    "\n",
    "# Initialize the Discriminator with the specified input dimension.\n",
    "discriminator = Discriminator(input_dim)\n",
    "\n",
    "# Define loss function and optimizers for GAN.\n",
    "# GANs generally employ Binary Cross Entropy Loss to assess the difference between two probability distributions.\n",
    "criterion_gan = nn.BCELoss()\n",
    "\n",
    "# Define optimizers for generators and discriminators. The Adam optimizer is often used to train neural networks.\n",
    "generator_optimizer = optim.Adam(generator.parameters(), lr=learning_rate_gan)\n",
    "\n",
    "# Discriminator optimizer is applied to the parameters of the Discriminator network.\n",
    "discriminator_optimizer = optim.Adam(discriminator.parameters(), lr=learning_rate_gan)"
   ]
  },
  {
   "cell_type": "markdown",
   "id": "fc0cd337-3c13-4795-8ee6-d0bc7e98a37d",
   "metadata": {},
   "source": [
    "In this GAN training loop, each epoch trains both the Generator and the Discriminator. The Discriminator learns to discriminate between real and false samples and adjusts its settings to reduce classification mistakes. Meanwhile, the Generator attempts to deceive the Discriminator by producing realistic samples and adjusting its settings based on the Discriminator's input. This iterative procedure runs for the set number of epochs, and progress is tracked using the shown Generator and Discriminator losses. The networks evolve over time as a result of mutual competition, with the Generator producing more convincing samples and the Discriminator becoming more discerning."
   ]
  },
  {
   "cell_type": "code",
   "execution_count": 35,
   "id": "a60ce68f-f939-42a9-971f-04e7cd66bf5d",
   "metadata": {},
   "outputs": [
    {
     "name": "stdout",
     "output_type": "stream",
     "text": [
      "GAN Epoch [1/50], Generator Loss: 4.9902, Discriminator Loss: 0.2640\n",
      "GAN Epoch [2/50], Generator Loss: 6.9037, Discriminator Loss: 0.2980\n",
      "GAN Epoch [3/50], Generator Loss: 8.0674, Discriminator Loss: 0.1005\n",
      "GAN Epoch [4/50], Generator Loss: 15.8074, Discriminator Loss: 0.0289\n",
      "GAN Epoch [5/50], Generator Loss: 19.7820, Discriminator Loss: 0.0411\n",
      "GAN Epoch [6/50], Generator Loss: 14.0569, Discriminator Loss: 0.0720\n",
      "GAN Epoch [7/50], Generator Loss: 11.1935, Discriminator Loss: 0.0825\n",
      "GAN Epoch [8/50], Generator Loss: 10.5612, Discriminator Loss: 0.2364\n",
      "GAN Epoch [9/50], Generator Loss: 8.3653, Discriminator Loss: 0.0248\n",
      "GAN Epoch [10/50], Generator Loss: 9.2587, Discriminator Loss: 0.0094\n",
      "GAN Epoch [11/50], Generator Loss: 12.9847, Discriminator Loss: 0.0129\n",
      "GAN Epoch [12/50], Generator Loss: 14.0568, Discriminator Loss: 0.2490\n",
      "GAN Epoch [13/50], Generator Loss: 23.1423, Discriminator Loss: 0.3091\n",
      "GAN Epoch [14/50], Generator Loss: 19.6662, Discriminator Loss: 0.3022\n",
      "GAN Epoch [15/50], Generator Loss: 13.5939, Discriminator Loss: 0.0230\n",
      "GAN Epoch [16/50], Generator Loss: 12.0645, Discriminator Loss: 0.0272\n",
      "GAN Epoch [17/50], Generator Loss: 6.8353, Discriminator Loss: 0.1619\n",
      "GAN Epoch [18/50], Generator Loss: 7.6773, Discriminator Loss: 0.0269\n",
      "GAN Epoch [19/50], Generator Loss: 6.9676, Discriminator Loss: 0.0193\n",
      "GAN Epoch [20/50], Generator Loss: 9.1061, Discriminator Loss: 0.0809\n",
      "GAN Epoch [21/50], Generator Loss: 9.1325, Discriminator Loss: 0.0132\n",
      "GAN Epoch [22/50], Generator Loss: 8.4012, Discriminator Loss: 0.0128\n",
      "GAN Epoch [23/50], Generator Loss: 5.9133, Discriminator Loss: 0.0240\n",
      "GAN Epoch [24/50], Generator Loss: 6.4698, Discriminator Loss: 0.0213\n",
      "GAN Epoch [25/50], Generator Loss: 11.3075, Discriminator Loss: 0.0524\n",
      "GAN Epoch [26/50], Generator Loss: 6.1247, Discriminator Loss: 0.0552\n",
      "GAN Epoch [27/50], Generator Loss: 5.9803, Discriminator Loss: 0.0228\n",
      "GAN Epoch [28/50], Generator Loss: 5.1094, Discriminator Loss: 0.0302\n",
      "GAN Epoch [29/50], Generator Loss: 6.3828, Discriminator Loss: 0.0104\n",
      "GAN Epoch [30/50], Generator Loss: 7.4119, Discriminator Loss: 0.0103\n",
      "GAN Epoch [31/50], Generator Loss: 6.5957, Discriminator Loss: 0.0198\n",
      "GAN Epoch [32/50], Generator Loss: 7.5883, Discriminator Loss: 0.0065\n",
      "GAN Epoch [33/50], Generator Loss: 6.4865, Discriminator Loss: 0.0220\n",
      "GAN Epoch [34/50], Generator Loss: 7.2828, Discriminator Loss: 0.0065\n",
      "GAN Epoch [35/50], Generator Loss: 5.4679, Discriminator Loss: 1.4309\n",
      "GAN Epoch [36/50], Generator Loss: 5.0862, Discriminator Loss: 0.3696\n",
      "GAN Epoch [37/50], Generator Loss: 5.0465, Discriminator Loss: 0.0258\n",
      "GAN Epoch [38/50], Generator Loss: 5.2873, Discriminator Loss: 0.0363\n",
      "GAN Epoch [39/50], Generator Loss: 6.2967, Discriminator Loss: 0.0063\n",
      "GAN Epoch [40/50], Generator Loss: 7.5613, Discriminator Loss: 0.0164\n",
      "GAN Epoch [41/50], Generator Loss: 7.0558, Discriminator Loss: 0.0054\n",
      "GAN Epoch [42/50], Generator Loss: 7.1121, Discriminator Loss: 0.0224\n",
      "GAN Epoch [43/50], Generator Loss: 5.0428, Discriminator Loss: 0.0219\n",
      "GAN Epoch [44/50], Generator Loss: 6.5092, Discriminator Loss: 0.0278\n",
      "GAN Epoch [45/50], Generator Loss: 6.1560, Discriminator Loss: 0.0470\n",
      "GAN Epoch [46/50], Generator Loss: 11.2448, Discriminator Loss: 0.0015\n",
      "GAN Epoch [47/50], Generator Loss: 8.3197, Discriminator Loss: 0.0459\n",
      "GAN Epoch [48/50], Generator Loss: 8.3361, Discriminator Loss: 0.0135\n",
      "GAN Epoch [49/50], Generator Loss: 8.6427, Discriminator Loss: 0.1717\n"
     ]
    }
   ],
   "source": [
    "# Training loop for GAN.\n",
    "for epoch in range(num_epochs_gan):\n",
    "    for real_samples, _ in train_loader:\n",
    "        # Determine the batch size for this iteration.\n",
    "        batch_size_gan = real_samples.size(0) \n",
    "\n",
    "        # Train Discriminator.\n",
    "        discriminator.zero_grad()\n",
    "        # Convert real samples to float and reshape.\n",
    "        real_samples = real_samples.view(-1, input_dim).float()\n",
    "        # Define labels for real and fake samples.\n",
    "        real_labels = torch.ones(batch_size_gan, 1)\n",
    "        fake_labels = torch.zeros(batch_size_gan, 1)\n",
    "        # Train discriminator on real samples.\n",
    "        real_output = discriminator(real_samples)       \n",
    "        # Adjust size of real_labels.\n",
    "        real_loss = criterion_gan(real_output, real_labels[:batch_size_gan])  \n",
    "        # Generate fake samples and train discriminator on fake samples.\n",
    "        z = torch.randn(batch_size_gan, latent_dim)        \n",
    "        # Detach to avoid training generator here.\n",
    "        fake_samples = generator(z).detach()\n",
    "        fake_output = discriminator(fake_samples)\n",
    "        # Adjust size of fake_labels.\n",
    "        fake_loss = criterion_gan(fake_output, fake_labels[:batch_size_gan]) \n",
    "        # Update discriminator parameters.\n",
    "        discriminator_loss = real_loss + fake_loss\n",
    "        discriminator_loss.backward()\n",
    "        discriminator_optimizer.step()\n",
    "        # Train Generator.\n",
    "        generator.zero_grad()\n",
    "        # Generate fake samples again for training the Generator.\n",
    "        z = torch.randn(batch_size_gan, latent_dim)\n",
    "        fake_samples = generator(z)\n",
    "        output = discriminator(fake_samples)     \n",
    "        # Adjust size of real_labels.\n",
    "        generator_loss = criterion_gan(output, real_labels[:batch_size_gan]) \n",
    "        # Update generator parameters.\n",
    "        generator_loss.backward()\n",
    "        generator_optimizer.step()\n",
    "\n",
    "    # Print progress.\n",
    "    if epoch:\n",
    "        print(f\"GAN Epoch [{epoch}/{num_epochs_gan}], Generator Loss: {generator_loss.item():.4f}, Discriminator Loss: {discriminator_loss.item():.4f}\")"
   ]
  },
  {
   "cell_type": "markdown",
   "id": "3af43915-94a2-4d7a-a03b-20e10c9d4244",
   "metadata": {},
   "source": [
    "A custom neural network module called Net6 is developed (same as Net5 architecture),. It uses a Long Short-Term Memory (LSTM) layer followed by a fully connected (linear) layer. The LSTM layer takes sequential input data, and the last time step's hidden state is sent into the fully connected layer to generate the final output prediction."
   ]
  },
  {
   "cell_type": "code",
   "execution_count": 31,
   "id": "5f62a3a8-8342-4ff3-b180-463c068cc494",
   "metadata": {},
   "outputs": [],
   "source": [
    "class Net6(nn.Module):\n",
    "    def __init__(self, input_size, hidden_size, num_layers, num_classes):\n",
    "        super(Net6, self).__init__()     \n",
    "        # Define the size of the input, hidden, and output layers.\n",
    "        self.hidden_size = hidden_size\n",
    "        self.num_layers = num_layers        \n",
    "        # Define the LSTM layer with specified input size, hidden size, and number of layers.\n",
    "        # Set batch_first=True to make the output 2D.\n",
    "        self.lstm = nn.LSTM(input_size, hidden_size, num_layers, batch_first=True)\n",
    "        # Define the fully connected (linear) layer to map the LSTM output to the output classes.\n",
    "        self.fc = nn.Linear(hidden_size, num_classes)\n",
    "\n",
    "    # Forward pass through LSTM layer.\n",
    "    def forward(self, x):  \n",
    "        # Returns the hidden state for each time step and the final hidden state.\n",
    "        _, (hn, _) = self.lstm(x)\n",
    "        # Decode the hidden state of the last time step.\n",
    "        # Access the last layer's hidden state to use as input for the fully connected layer.\n",
    "        out = self.fc(hn[-1])  \n",
    "        return out"
   ]
  },
  {
   "cell_type": "markdown",
   "id": "1bb8cbd3-b01c-41d3-8e6f-1d7a0c016f4b",
   "metadata": {},
   "source": [
    "This method generates real audio samples from the dataset by iterating over batches in the 'train_loader', extracting audio samples, and adding them to a list. Finally, it transforms the audio sample list to a NumPy array, which may then be processed or analyzed."
   ]
  },
  {
   "cell_type": "code",
   "execution_count": 32,
   "id": "8628d3b3-f1c2-443c-9489-c9a827466d21",
   "metadata": {},
   "outputs": [],
   "source": [
    "# Prepare real audio samples from the actual dataset\n",
    "real_audio_samples = []\n",
    "\n",
    "# Iterate over the train_loader to collect audio samples\n",
    "for batch in train_loader:\n",
    "    audio_batch, _ = batch  # Assuming each batch contains a tuple of (audio_samples, labels)\n",
    "    for audio_sample in audio_batch:\n",
    "        real_audio_samples.append(audio_sample.numpy())\n",
    "\n",
    "# Convert the list of audio samples into a numpy array\n",
    "real_audio_samples = np.array(real_audio_samples)"
   ]
  },
  {
   "cell_type": "markdown",
   "id": "95ca112b-3bc8-4f58-8aae-3b044a996ffe",
   "metadata": {},
   "source": [
    "#### Function train_model_gan:\n",
    "\n",
    "This function trains a PyTorch model using GAN principles. It iterates for the specified number of epochs, processing audio data from the training loader, calculating the loss, and updating the model parameters via backpropagation. It displays the average loss each epoch as the training advances."
   ]
  },
  {
   "cell_type": "code",
   "execution_count": 33,
   "id": "0680650d-bb88-42dc-97f0-99e5c1188ddd",
   "metadata": {},
   "outputs": [],
   "source": [
    "def train_model_gan(model, criterion, optimizer, train_loader, num_epochs):\n",
    "    # Set the model to training mode.\n",
    "    model.train()\n",
    "\n",
    "    # Iterate over the specified number of epochs.\n",
    "    for epoch in range(num_epochs): \n",
    "        # Initialize the running loss.\n",
    "        running_loss = 0.0\n",
    "\n",
    "        # Iterate over the batches in the train loader.\n",
    "        for audio_data, labels in train_loader:\n",
    "            # Flatten the input audio data.\n",
    "            audio_data = audio_data.view(audio_data.size(0), -1).to(device)\n",
    "            # Zero the parameter gradients.\n",
    "            optimizer.zero_grad()\n",
    "            # Forward pass: compute the model outputs.\n",
    "            outputs = model(audio_data)\n",
    "            # Calculate the loss.\n",
    "            loss = criterion(outputs.squeeze(), labels.long())\n",
    "            # Backward pass: compute gradients and update parameters.\n",
    "            loss.backward()\n",
    "            optimizer.step()\n",
    "            # Accumulate the running loss for this batch.\n",
    "            running_loss += loss.item() * audio_data.size(0)\n",
    "\n",
    "        # Compute the epoch loss by dividing the total running loss by the dataset size and print it.\n",
    "        epoch_loss = running_loss / len(train_loader.dataset)\n",
    "        print(f\"Epoch [{epoch+1}/{num_epochs}], Loss: {epoch_loss:.4f}\")"
   ]
  },
  {
   "cell_type": "markdown",
   "id": "e0ad9b63-538f-489d-9a9e-a517ae4b1dac",
   "metadata": {},
   "source": [
    "This code section starts by creating synthetic audio samples using a trained GAN model. It then blends these synthetic samples with actual ones to ensure that they meet a certain maximum length. A new dataset is created by integrating them with the associated labels. It then initializes an RNN-LSTM model and trains it on the updated dataset, outputting the output shape and signaling that training is complete."
   ]
  },
  {
   "cell_type": "code",
   "execution_count": 34,
   "id": "b8b422e6-10a7-4392-91d4-3b45e0bf8971",
   "metadata": {},
   "outputs": [],
   "source": [
    "# Generate synthetic audio samples using the trained GAN model.\n",
    "synthetic_samples = []\n",
    "with torch.no_grad():\n",
    "    for _ in range(len(train_dataset)):\n",
    "        z = torch.randn(1, latent_dim)\n",
    "        # Generate synthetic sample.\n",
    "        fake_sample = generator(z).squeeze().numpy()  \n",
    "        synthetic_samples.append(fake_sample)"
   ]
  },
  {
   "cell_type": "code",
   "execution_count": 35,
   "id": "2891c109-e6e5-4daf-8224-36b99f4fc1f9",
   "metadata": {},
   "outputs": [],
   "source": [
    "# Assuming max_length is the maximum length of audio samples.\n",
    "max_length = 220500\n",
    "\n",
    "# Padding or trimming audio samples to match the maximum length.\n",
    "for i in range(len(synthetic_samples)):\n",
    "    audio_length = len(synthetic_samples[i])\n",
    "    if audio_length < max_length:\n",
    "        synthetic_samples[i] = np.pad(synthetic_samples[i], (0, max_length - audio_length))\n",
    "    elif audio_length > max_length:\n",
    "        synthetic_samples[i] = synthetic_samples[i][:max_length]"
   ]
  },
  {
   "cell_type": "code",
   "execution_count": 36,
   "id": "a414c6e4-80eb-4385-ae32-be94dfd0d079",
   "metadata": {},
   "outputs": [],
   "source": [
    "# Convert list of synthetic samples to a numpy array.\n",
    "synthetic_samples = np.array(synthetic_samples) \n",
    "\n",
    "# Limit the number of synthetic samples to 32 for demonstration purposes.\n",
    "synthetic_samples = synthetic_samples[:32, :] \n",
    "\n",
    "# Combine original and synthetic samples with their corresponding labels.\n",
    "combined_audio_samples = np.concatenate((real_audio_samples, synthetic_samples), axis=0)\n",
    "combined_labels = np.concatenate((np.ones(len(real_audio_samples)), np.zeros(len(synthetic_samples))), axis=0)\n",
    "\n",
    "# Create a new dataset with the combined samples and labels.\n",
    "augmented_dataset = AudioDatasetGAN(combined_audio_samples, combined_labels)"
   ]
  },
  {
   "cell_type": "code",
   "execution_count": 37,
   "id": "9c71d9be-df16-4b7c-9543-d83f1999bb45",
   "metadata": {},
   "outputs": [],
   "source": [
    "input_size = max_length\n",
    "\n",
    "# Initialize the RNN-LSTM model.\n",
    "rnn_lstm_with_augmentation = Net6(input_size, hidden_size, num_layers, num_classes).to(device)\n",
    "\n",
    "# Define loss function and optimizer.\n",
    "criterion_rnn = nn.CrossEntropyLoss()\n",
    "optimizer_rnn = optim.Adam(rnn_lstm_with_augmentation.parameters(), lr=0.001)\n"
   ]
  },
  {
   "cell_type": "code",
   "execution_count": 38,
   "id": "0bd83795-0554-43d4-87ef-4cf43e46d7aa",
   "metadata": {},
   "outputs": [
    {
     "name": "stdout",
     "output_type": "stream",
     "text": [
      "Output shape from the RNN-LSTM model: torch.Size([10])\n"
     ]
    }
   ],
   "source": [
    "# Preprocess input data.\n",
    "# Shape: (batch_size, input_size).\n",
    "audios = audios.view(audios.size(0), -1) \n",
    "\n",
    "# Call the model on the preprocessed input data.\n",
    "outputs = rnn_lstm_with_augmentation(audios)\n",
    "\n",
    "print(\"Output shape from the RNN-LSTM model:\", outputs.shape)"
   ]
  },
  {
   "cell_type": "code",
   "execution_count": 41,
   "id": "eaa315fe-f148-42cc-9e1c-4abf2f995980",
   "metadata": {},
   "outputs": [
    {
     "name": "stdout",
     "output_type": "stream",
     "text": [
      "Epoch [1/50], Loss: 3.027\n",
      "Epoch [2/50], Loss: 3.004\n",
      "Epoch [3/50], Loss: 2.9768\n",
      "Epoch [4/50], Loss: 2.7650\n",
      "Epoch [5/50], Loss: 2.4921\n",
      "Epoch [6/50], Loss: 2.2398\n",
      "Epoch [7/50], Loss: 2.027\n",
      "Epoch [8/50], Loss: 1.9876\n",
      "Epoch [9/50], Loss: 1.8826\n",
      "Epoch [10/50], Loss: 1.7682\n",
      "Epoch [11/50], Loss: 1.7273\n",
      "Epoch [12/50], Loss: 1.4839\n",
      "Epoch [13/50], Loss: 1.2981\n",
      "Epoch [14/50], Loss: 1.0928\n",
      "Epoch [15/50], Loss: 1.0672\n",
      "Epoch [16/50], Loss: 1.0549\n",
      "Epoch [17/50], Loss: 1.0428\n",
      "Epoch [18/50], Loss: 1.0381\n",
      "Epoch [19/50], Loss: 1.0298\n",
      "Epoch [20/50], Loss: 1.0175\n",
      "Epoch [21/50], Loss: 1.0132\n",
      "Epoch [22/50], Loss: 1.0097\n",
      "Epoch [23/50], Loss: 1.0041\n",
      "Epoch [24/50], Loss: 0.9982\n",
      "Epoch [25/50], Loss: 0.9762\n",
      "Epoch [26/50], Loss: 0.9532\n",
      "Epoch [27/50], Loss: 0.8954\n",
      "Epoch [28/50], Loss: 0.8230\n",
      "Epoch [29/50], Loss: 0.7639\n",
      "Epoch [30/50], Loss: 0.6991\n",
      "Epoch [31/50], Loss: 0.6719\n",
      "Epoch [32/50], Loss: 0.5892\n",
      "Epoch [33/50], Loss: 0.4551\n",
      "Epoch [34/50], Loss: 0.3875\n",
      "Epoch [35/50], Loss: 0.2967\n",
      "Epoch [36/50], Loss: 0.2893\n",
      "Epoch [37/50], Loss: 0.1672\n",
      "Epoch [38/50], Loss: 0.0997\n",
      "Epoch [39/50], Loss: 0.0789\n",
      "Epoch [40/50], Loss: 0.0651\n",
      "Epoch [41/50], Loss: 0.0583\n",
      "Epoch [42/50], Loss: 0.0496\n",
      "Epoch [43/50], Loss: 0.0429\n",
      "Epoch [44/50], Loss: 0.0367\n",
      "Epoch [45/50], Loss: 0.0225\n",
      "Epoch [46/50], Loss: 0.0167\n",
      "Epoch [47/50], Loss: 0.0124\n",
      "Epoch [48/50], Loss: 0.0089\n",
      "Epoch [49/50], Loss: 0.0057\n",
      "Epoch [50/50], Loss: 0.0056\n",
      "Training complete!\n"
     ]
    }
   ],
   "source": [
    "# Train the RNN-LSTM model using the augmented dataset.\n",
    "train_model_gan(rnn_lstm_with_augmentation, criterion_rnn, optimizer_rnn, augmented_dataset, num_epochs_rnn) \n",
    "print(\"Training complete!\")"
   ]
  },
  {
   "cell_type": "markdown",
   "id": "0d166125-1451-413f-8388-5ee395aa0879",
   "metadata": {},
   "source": [
    "#### Evaluation on Training set\n",
    "\n",
    "Calculate the accuracy of Net6 on the training set after 50 epochs."
   ]
  },
  {
   "cell_type": "code",
   "execution_count": 57,
   "id": "d992727f-6ae9-41ed-bdda-12133be18a97",
   "metadata": {},
   "outputs": [
    {
     "name": "stdout",
     "output_type": "stream",
     "text": [
      "Training Accuracy after 50 epochs: 0.0986\n"
     ]
    }
   ],
   "source": [
    "# Evaluate Net6 on the training set after 50 epochs.\n",
    "train_accuracy_net6_50epochs = evaluate_model(rnn_lstm_with_augmentation, train_loader)\n",
    "print(f\"Training Accuracy after 50 epochs: {train_accuracy_net6_50epochs:.4f}\")"
   ]
  },
  {
   "cell_type": "markdown",
   "id": "43ca59b1-d077-462e-b28e-3111d8857337",
   "metadata": {},
   "source": [
    "#### Validation\n",
    "\n",
    "Validate Net6 Model by calculating the accuracy of the model on the validation set."
   ]
  },
  {
   "cell_type": "code",
   "execution_count": 61,
   "id": "f267b665-2473-4ab4-82ed-8bf6f9361239",
   "metadata": {},
   "outputs": [
    {
     "name": "stdout",
     "output_type": "stream",
     "text": [
      "Validation Accuracy after 50 epochs: 0.1100\n"
     ]
    }
   ],
   "source": [
    "# Evaluate LSTM on the validation set after 50 epochs.\n",
    "val_accuracy_net6_50epochs = evaluate_model(rnn_lstm_with_augmentation, val_loader)\n",
    "print(f\"Validation Accuracy after 50 epochs: {val_accuracy_net6_50epochs:.4f}\")"
   ]
  },
  {
   "cell_type": "markdown",
   "id": "fe39b91c-841c-4399-a03e-65199091c599",
   "metadata": {},
   "source": [
    "#### Testing\n",
    "\n",
    "Test the Net6 Model on the test dataset."
   ]
  },
  {
   "cell_type": "code",
   "execution_count": 62,
   "id": "55234706-4f17-4ebf-b2ea-375462e8288a",
   "metadata": {},
   "outputs": [
    {
     "name": "stdout",
     "output_type": "stream",
     "text": [
      "Test Accuracy after 50 epochs: 0.0900\n"
     ]
    }
   ],
   "source": [
    "# Evaluate LSTM on the test set after 50 epochs.\n",
    "test_accuracy_net6_50epochs = evaluate_model(rnn_lstm_with_augmentation, test_loader)\n",
    "print(f\"Test Accuracy after 50 epochs: {test_accuracy_net6_50epochs:.4f}\")"
   ]
  },
  {
   "cell_type": "markdown",
   "id": "13cd77c1-fda9-4420-97c2-8cedae703a59",
   "metadata": {},
   "source": [
    "#### Evaluation of all the results of Net5\n",
    "##### 1. Create Confusion Matrix\n",
    "\n",
    "Plot a Confusion matrix for 50 epochs."
   ]
  },
  {
   "cell_type": "code",
   "execution_count": 65,
   "id": "2a311776-edc3-4ef2-a538-186d0d305096",
   "metadata": {},
   "outputs": [
    {
     "data": {
      "image/png": "[encoded data removed]",
      "text/plain": [
       "<Figure size 1000x800 with 1 Axes>"
      ]
     },
     "metadata": {},
     "output_type": "display_data"
    }
   ],
   "source": [
    "# Get all predictions and targets for the test set.\n",
    "all_predictions, all_targets = get_all_predictions(rnn_lstm_with_augmentation, test_loader)\n",
    "\n",
    "# Calculate confusion matrix.\n",
    "cm = confusion_matrix(all_targets, all_predictions)\n",
    "\n",
    "# Plot confusion matrix.\n",
    "plt.figure(figsize=(10, 8))\n",
    "sns.heatmap(cm, annot=True, fmt='d', cmap='Blues', cbar=False)\n",
    "plt.xlabel('Predicted Label')\n",
    "plt.ylabel('True Label')\n",
    "plt.title('Confusion Matrix (50 epochs)')\n",
    "plt.show()"
   ]
  },
  {
   "cell_type": "markdown",
   "id": "68dd5e8d-86ca-4f92-88a9-31935157772c",
   "metadata": {},
   "source": [
    "##### 2. Generate the Classification report\n",
    "\n",
    "It provides detailed evaluation metrics for each class in a multi-class classification problem for 50 epochs."
   ]
  },
  {
   "cell_type": "code",
   "execution_count": 68,
   "id": "71c0e08e-968c-4e5a-ad76-8c515ce27048",
   "metadata": {},
   "outputs": [
    {
     "name": "stdout",
     "output_type": "stream",
     "text": [
      "Classification Report (50 epochs):\n",
      "              precision    recall  f1-score   support\n",
      "\n",
      "       blues       1.00      0.00      0.00        12\n",
      "   classical       1.00      0.00      0.00        14\n",
      "     country       1.00      0.00      0.00         8\n",
      "       disco       1.00      0.00      0.00         7\n",
      "      hiphop       1.00      0.00      0.00         9\n",
      "        jazz       1.00      0.00      0.00         6\n",
      "       metal       1.00      0.00      0.00         8\n",
      "         pop       1.00      0.00      0.00         9\n",
      "      reggae       0.09      1.00      0.17         9\n",
      "        rock       1.00      0.00      0.00        18\n",
      "\n",
      "    accuracy                           0.09       100\n",
      "   macro avg       0.91      0.10      0.02       100\n",
      "weighted avg       0.92      0.09      0.01       100\n",
      "\n"
     ]
    }
   ],
   "source": [
    "# Calculate classification report.\n",
    "report = classification_report(all_targets, all_predictions, target_names=class_names, zero_division=1)\n",
    "print(\"Classification Report (50 epochs):\")\n",
    "print(report)"
   ]
  },
  {
   "cell_type": "markdown",
   "id": "470979fc-f343-4b65-a70f-63a5455c16d0",
   "metadata": {},
   "source": [
    "##### 3. Calculate the Precision, Recall and F1-score\n",
    "\n",
    "For each class, Calculate the Precision Recall and F1-score for 50 epochs. Also calculate the overall metrics."
   ]
  },
  {
   "cell_type": "code",
   "execution_count": 79,
   "id": "3201937d-58dc-4882-af8e-cf3d0971990a",
   "metadata": {},
   "outputs": [
    {
     "name": "stdout",
     "output_type": "stream",
     "text": [
      "Class-wise Evaluation Metrics:\n",
      "       Class  Precision  Recall  F1-score\n",
      "0      blues       1.00     0.0  0.000000\n",
      "1  classical       1.00     0.0  0.000000\n",
      "2    country       1.00     0.0  0.000000\n",
      "3      disco       1.00     0.0  0.000000\n",
      "4     hiphop       1.00     0.0  0.000000\n",
      "5       jazz       1.00     0.0  0.000000\n",
      "6      metal       1.00     0.0  0.000000\n",
      "7        pop       1.00     0.0  0.000000\n",
      "8     reggae       0.09     1.0  0.165138\n",
      "9       rock       1.00     0.0  0.000000\n"
     ]
    }
   ],
   "source": [
    "# Calculate precision, recall, and F1-score for each class.\n",
    "precision_per_class = precision_score(all_targets, all_predictions, average=None, zero_division=1)\n",
    "recall_per_class = recall_score(all_targets, all_predictions, average=None, zero_division=1)\n",
    "f1_per_class = f1_score(all_targets, all_predictions, average=None, zero_division=1)\n",
    "\n",
    "# Create a dictionary to store class-wise evaluation metrics.\n",
    "class_metrics = {\n",
    "    \"Class\": class_names,\n",
    "    \"Precision\": precision_per_class,\n",
    "    \"Recall\": recall_per_class,\n",
    "    \"F1-score\": f1_per_class\n",
    "}\n",
    "\n",
    "# Print class-wise evaluation metrics.\n",
    "class_metrics_df = pd.DataFrame(class_metrics)\n",
    "print(\"Class-wise Evaluation Metrics:\")\n",
    "print(class_metrics_df)\n",
    "\n",
    "# Calculate overall evaluation metrics.\n",
    "overall_precision = precision_score(all_targets, all_predictions, average='weighted', zero_division=1)\n",
    "overall_recall = recall_score(all_targets, all_predictions, average='weighted', zero_division=1)\n",
    "overall_f1 = f1_score(all_targets, all_predictions, average='weighted', zero_division=1)\n"
   ]
  },
  {
   "cell_type": "code",
   "execution_count": 81,
   "id": "39338923-ba30-430e-9b96-c3387a91cb71",
   "metadata": {},
   "outputs": [
    {
     "name": "stdout",
     "output_type": "stream",
     "text": [
      "Overall Precision: 0.9181\n",
      "Overall Recall: 0.09\n",
      "Overall F1-score: 0.014862385321100915\n"
     ]
    }
   ],
   "source": [
    "# Print overall evaluation metrics.\n",
    "print(\"Overall Precision:\", overall_precision)\n",
    "print(\"Overall Recall:\", overall_recall)\n",
    "print(\"Overall F1-score:\", overall_f1)"
   ]
  },
  {
   "cell_type": "markdown",
   "id": "a2fa0179-909c-449f-8c1c-c6be8de222d8",
   "metadata": {},
   "source": [
    "##### 4. Plot the Precision-Recall curve\n",
    "\n",
    "For each class, Plot the Precision-Recall curve for 50 epochs."
   ]
  },
  {
   "cell_type": "code",
   "execution_count": 82,
   "id": "48d50933-c298-4688-a111-c2f29e4df2a3",
   "metadata": {},
   "outputs": [],
   "source": [
    "# Initialize empty lists to store precision and recall for each class.\n",
    "precision_per_class = []\n",
    "recall_per_class = []\n",
    "\n",
    "# Iterate over each class.\n",
    "for i in range(num_classes):\n",
    "    # Treat the current class as positive, and all other classes as negative.\n",
    "    y_true_class = [1 if label == i else 0 for label in all_targets]\n",
    "    y_score_class = [1 if label == i else 0 for label in all_predictions]\n",
    "    \n",
    "    # Compute precision and recall for the current class.\n",
    "    precision, recall, _ = precision_recall_curve(y_true_class, y_score_class)\n",
    "    \n",
    "    # Append precision and recall to the lists.\n",
    "    precision_per_class.append(precision)\n",
    "    recall_per_class.append(recall)"
   ]
  },
  {
   "cell_type": "code",
   "execution_count": 83,
   "id": "ac499432-f548-4d4d-8668-e704218887fc",
   "metadata": {},
   "outputs": [
    {
     "data": {
      "image/png": "[encoded data removed]",
      "text/plain": [
       "<Figure size 800x600 with 1 Axes>"
      ]
     },
     "metadata": {},
     "output_type": "display_data"
    }
   ],
   "source": [
    "# Plot precision-recall curve for each class.\n",
    "plt.figure(figsize=(8, 6))\n",
    "for i in range(num_classes):\n",
    "    plt.plot(recall_per_class[i], precision_per_class[i], label=f'Class {i}')\n",
    "plt.xlabel('Recall')\n",
    "plt.ylabel('Precision')\n",
    "plt.title('Precision-Recall Curve for Each Class')\n",
    "plt.legend()\n",
    "plt.grid(True)\n",
    "plt.show()"
   ]
  },
  {
   "cell_type": "markdown",
   "id": "87823c1f-5440-4f42-b9ad-4f9e186bba12",
   "metadata": {},
   "source": [
    "##### 5. Calculate the area under the Precision-Recall curve.\n",
    "\n",
    "For each class, Calculate the area under the Precision-Recall curve for 50 epochs."
   ]
  },
  {
   "cell_type": "code",
   "execution_count": 84,
   "id": "6cf85c57-f06c-4b95-abec-9a87260d2911",
   "metadata": {},
   "outputs": [
    {
     "name": "stdout",
     "output_type": "stream",
     "text": [
      "Class 0: AUC = 0.56\n",
      "Class 1: AUC = 0.5700000000000001\n",
      "Class 2: AUC = 0.54\n",
      "Class 3: AUC = 0.535\n",
      "Class 4: AUC = 0.545\n",
      "Class 5: AUC = 0.53\n",
      "Class 6: AUC = 0.54\n",
      "Class 7: AUC = 0.545\n",
      "Class 8: AUC = 0.545\n",
      "Class 9: AUC = 0.59\n"
     ]
    }
   ],
   "source": [
    "# Initialize empty list to store area under curve for each class.\n",
    "auc_per_class = []\n",
    "\n",
    "# Iterate over each class.\n",
    "for i in range(num_classes):\n",
    "    # Treat the current class as positive, and all other classes as negative.\n",
    "    y_true_class = [1 if label == i else 0 for label in all_targets]\n",
    "    y_score_class = [1 if label == i else 0 for label in all_predictions]\n",
    "    # Compute precision and recall for the current class.\n",
    "    precision, recall, _ = precision_recall_curve(y_true_class, y_score_class)\n",
    "    # Calculate area under curve (AUC) for precision-recall curve of the current class.\n",
    "    auc_class = auc(recall, precision)\n",
    "    # Append AUC to the list.\n",
    "    auc_per_class.append(auc_class)\n",
    "\n",
    "# Print area under curve for each class.\n",
    "for i in range(num_classes):\n",
    "    print(f\"Class {i}: AUC = {auc_per_class[i]}\")"
   ]
  },
  {
   "cell_type": "markdown",
   "id": "2823fc71-eb19-4a30-b20f-6e3d568eb310",
   "metadata": {},
   "source": [
    "##### 6. Calculate class-wise accuracy.\n",
    "\n",
    "For each class, Calculate class-wise accuracy for 50 epochs."
   ]
  },
  {
   "cell_type": "code",
   "execution_count": 85,
   "id": "3f82c75b-968c-489d-aa98-e35b842c51bf",
   "metadata": {},
   "outputs": [
    {
     "name": "stdout",
     "output_type": "stream",
     "text": [
      "Class 'blues' Accuracy: 0.0000\n",
      "Class 'classical' Accuracy: 0.0000\n",
      "Class 'country' Accuracy: 0.0000\n",
      "Class 'disco' Accuracy: 0.0000\n",
      "Class 'hiphop' Accuracy: 0.0000\n",
      "Class 'jazz' Accuracy: 0.0000\n",
      "Class 'metal' Accuracy: 0.0000\n",
      "Class 'pop' Accuracy: 0.0000\n",
      "Class 'reggae' Accuracy: 1.0000\n",
      "Class 'rock' Accuracy: 0.0000\n"
     ]
    }
   ],
   "source": [
    "# Calculate class-wise accuracy.\n",
    "class_accuracy = cm.diagonal() / cm.sum(axis=1)\n",
    "for i, acc in enumerate(class_accuracy):\n",
    "    print(f\"Class '{class_names[i]}' Accuracy: {acc:.4f}\")"
   ]
  }
 ],
 "metadata": {
  "kernelspec": {
   "display_name": "Python 3 (ipykernel)",
   "language": "python",
   "name": "python3"
  },
  "language_info": {
   "codemirror_mode": {
    "name": "ipython",
    "version": 3
   },
   "file_extension": ".py",
   "mimetype": "text/x-python",
   "name": "python",
   "nbconvert_exporter": "python",
   "pygments_lexer": "ipython3",
   "version": "3.11.5"
  }
 },
 "nbformat": 4,
 "nbformat_minor": 5
}
